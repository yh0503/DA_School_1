{
  "nbformat": 4,
  "nbformat_minor": 0,
  "metadata": {
    "colab": {
      "provenance": []
    },
    "kernelspec": {
      "name": "python3",
      "display_name": "Python 3"
    },
    "language_info": {
      "name": "python"
    }
  },
  "cells": [
    {
      "cell_type": "markdown",
      "source": [
        "# Python으로 만드는 메뉴 자판기"
      ],
      "metadata": {
        "id": "lHC2ikQqT0Yr"
      }
    },
    {
      "cell_type": "code",
      "execution_count": null,
      "metadata": {
        "colab": {
          "base_uri": "https://localhost:8080/"
        },
        "id": "DxgegII1WKTV",
        "outputId": "a3169074-95e7-46a7-a9b2-1bb0e12005a5"
      },
      "outputs": [
        {
          "output_type": "stream",
          "name": "stdout",
          "text": [
            "제육볶음\n"
          ]
        }
      ],
      "source": [
        "import random\n",
        "import time\n",
        "\n",
        "while True:\n",
        "    print(random.choice([\"된장찌개\",\"피자\",\"제육볶음\",\" 치킨\",\"떡볶이\"]))\n",
        "    time.sleep(1)\n",
        "    break"
      ]
    },
    {
      "cell_type": "code",
      "source": [
        "import random\n",
        "\n",
        "lunch = random.choice([\"된장찌개\",\"피자\",\"제육볶음\"])\n",
        "dinner = random.choice([\"김밥\",\"쫄면\",\"돈까스\"])\n",
        "\n",
        "print(lunch)"
      ],
      "metadata": {
        "colab": {
          "base_uri": "https://localhost:8080/"
        },
        "id": "84AqfD0MdyeH",
        "outputId": "a1287657-755b-419a-f7ee-65544850af5e"
      },
      "execution_count": null,
      "outputs": [
        {
          "output_type": "stream",
          "name": "stdout",
          "text": [
            "제육볶음\n"
          ]
        }
      ]
    },
    {
      "cell_type": "code",
      "source": [
        "information = {'고향':\"수원\",\"취미\":\"영화관람\",\"좋아하는 음식\":\"국수\"}\n",
        "\n",
        "information = {\"특기\":\"피아노\",\"사는곳\":\"서울\"}\n",
        "print(information[\"특기\"])"
      ],
      "metadata": {
        "id": "4Vf1tZ-pkKYV"
      },
      "execution_count": null,
      "outputs": []
    },
    {
      "cell_type": "code",
      "source": [
        "information = {'고향':\"수원\",\"취미\":\"영화관람\",\"좋아하는 음식\":\"국수\"}\n",
        "foods = [\"된장찌개\",\"피자\",\"제육볶음\"]\n",
        "\n",
        "print(information.get('취미'))\n",
        "information[\"특기\"] = \"피아노\"\n",
        "information[\"사는곳\"] = \"서울\"\n",
        "del information['좋아하는 음식']\n",
        "print(information)\n",
        "print(len(information))\n",
        "information.clear()\n",
        "print(information)\n",
        "print(foods[-3])\n",
        "foods.append('김밥')\n",
        "print(foods)\n",
        "del foods[1]\n",
        "print(foods)"
      ],
      "metadata": {
        "colab": {
          "base_uri": "https://localhost:8080/"
        },
        "id": "nPCfmVQGmJ5x",
        "outputId": "7535912b-424d-41d1-c697-66c1f1d45350"
      },
      "execution_count": null,
      "outputs": [
        {
          "output_type": "stream",
          "name": "stdout",
          "text": [
            "영화관람\n",
            "{'고향': '수원', '취미': '영화관람', '특기': '피아노', '사는곳': '서울'}\n",
            "4\n",
            "{}\n",
            "된장찌개\n",
            "['된장찌개', '피자', '제육볶음', '김밥']\n",
            "['된장찌개', '제육볶음', '김밥']\n"
          ]
        }
      ]
    },
    {
      "cell_type": "code",
      "source": [
        "for i in range(30):\n",
        "    print(i)"
      ],
      "metadata": {
        "id": "LBAamrrKoTj7"
      },
      "execution_count": null,
      "outputs": []
    },
    {
      "cell_type": "code",
      "source": [
        "foods = [\"된장찌개\",\"피자\",\"제육볶음\"]\n",
        "print(foods)"
      ],
      "metadata": {
        "colab": {
          "base_uri": "https://localhost:8080/"
        },
        "id": "qV9GAqeZqGSb",
        "outputId": "be6c57cb-f495-40db-9116-af111523fb0e"
      },
      "execution_count": null,
      "outputs": [
        {
          "output_type": "stream",
          "name": "stdout",
          "text": [
            "['된장찌개', '피자', '제육볶음']\n"
          ]
        }
      ]
    },
    {
      "cell_type": "code",
      "source": [
        "for i in foods:\n",
        "    print(i)"
      ],
      "metadata": {
        "colab": {
          "base_uri": "https://localhost:8080/"
        },
        "id": "XuHr2lDEqOrC",
        "outputId": "edf334e0-abf6-4d67-ea2d-893c50803fcb"
      },
      "execution_count": null,
      "outputs": [
        {
          "output_type": "stream",
          "name": "stdout",
          "text": [
            "된장찌개\n",
            "피자\n",
            "제육볶음\n"
          ]
        }
      ]
    },
    {
      "cell_type": "code",
      "source": [
        "information = {'고향':\"수원\",\"취미\":\"영화관람\",\"좋아하는 음식\":\"국수\"}\n",
        "\n",
        "for x,y in information.items():\n",
        "    print(x)\n",
        "    print(y)"
      ],
      "metadata": {
        "colab": {
          "base_uri": "https://localhost:8080/"
        },
        "id": "TvRhBfbXrEzk",
        "outputId": "aff98eda-85ce-41de-8bdb-072c237dc8ee"
      },
      "execution_count": null,
      "outputs": [
        {
          "output_type": "stream",
          "name": "stdout",
          "text": [
            "고향\n",
            "수원\n",
            "취미\n",
            "영화관람\n",
            "좋아하는 음식\n",
            "국수\n"
          ]
        }
      ]
    },
    {
      "cell_type": "code",
      "source": [
        "foods = [\"된장찌개\",\"피자\",\"제육볶음\",\"된장찌개\"]\n",
        "\n",
        "foods_set = set(foods)\n",
        "print(foods)\n",
        "print(foods_set)\n",
        "\n"
      ],
      "metadata": {
        "colab": {
          "base_uri": "https://localhost:8080/"
        },
        "id": "rdDS5Hctv56i",
        "outputId": "0da718de-7acc-415e-b879-43fab1788775"
      },
      "execution_count": null,
      "outputs": [
        {
          "output_type": "stream",
          "name": "stdout",
          "text": [
            "['된장찌개', '피자', '제육볶음', '된장찌개']\n",
            "{'피자', '된장찌개', '제육볶음'}\n"
          ]
        }
      ]
    },
    {
      "cell_type": "code",
      "source": [
        "menu1 = set([\"된장찌개\",\"피자\",\"제육볶음\"])\n",
        "menu2 = set([\"된장찌개\",\"떡국\",\"김밥\"])\n",
        "menu3 = menu1 - menu2\n",
        "\n",
        "print(menu3)"
      ],
      "metadata": {
        "colab": {
          "base_uri": "https://localhost:8080/"
        },
        "id": "LL6bHxl5wdV8",
        "outputId": "6f242a5b-64ac-4237-e698-93b4ca0b3ad3"
      },
      "execution_count": null,
      "outputs": [
        {
          "output_type": "stream",
          "name": "stdout",
          "text": [
            "{'피자', '제육볶음'}\n"
          ]
        }
      ]
    },
    {
      "cell_type": "code",
      "source": [
        "import random\n",
        "\n",
        "food = random.choice([\"된장찌개\",\"피자\",\"제육볶음\",\"된장찌개\"])\n",
        "print(food)\n",
        "if food == \"제육볶음\":\n",
        "    print(\"곱빼기 주세요\")\n",
        "else:\n",
        "    print(\"그냥 주세요\")\n",
        "print(\"종료\")"
      ],
      "metadata": {
        "colab": {
          "base_uri": "https://localhost:8080/"
        },
        "id": "r3qHWZFzxMQq",
        "outputId": "0a1d5df4-7133-4fcc-d0f7-44aa2d10eb81"
      },
      "execution_count": null,
      "outputs": [
        {
          "output_type": "stream",
          "name": "stdout",
          "text": [
            "제육볶음\n",
            "곱빼기 주세요\n",
            "종료\n"
          ]
        }
      ]
    },
    {
      "cell_type": "code",
      "source": [
        "import random\n",
        "import time\n",
        "\n",
        "lunch = [\"된장찌개\",\"피자\",\"제육볶음\",\"짜장면\"]\n",
        "\n",
        "while True:\n",
        "    print(lunch)\n",
        "    item =input(\"음식을 추가해주세요 : \")\n",
        "    if item == 'q':\n",
        "        break\n",
        "    else:\n",
        "        lunch.append(item)\n",
        "\n",
        "set_lunch = set(lunch)\n",
        "\n",
        "while True:\n",
        "    print(set_lunch)\n",
        "    item = input(\"음식을 삭제해주세요 : \")\n",
        "    if item == 'q':\n",
        "        break\n",
        "    else:\n",
        "        set_lunch = set_lunch - set([item])\n",
        "\n",
        "print(set_lunch,\"중에서 선택합니다\")\n",
        "\n",
        "for i in range(5,0,-1):\n",
        "    print(i)\n",
        "    time.sleep(1)\n",
        "\n",
        "print(random.choice(list(set_lunch)))\n"
      ],
      "metadata": {
        "id": "se3DpuHI44B3"
      },
      "execution_count": null,
      "outputs": []
    },
    {
      "cell_type": "code",
      "source": [
        "import random\n",
        "import time\n",
        "\n",
        "lunch = [\"된장찌개\",\"피자\",\"제육볶음\",\"짜장면\"]\n",
        "\n",
        "while True:\n",
        "    print(lunch)\n",
        "    item =input(\"음식을 추가해주세요 : \")\n",
        "    if item == 'q':\n",
        "        break\n",
        "    else:\n",
        "        lunch.append(item)\n",
        "\n",
        "while True:\n",
        "    print(lunch)\n",
        "    item = input(\"음식을 삭제해주세요 : \")\n",
        "    if item == 'q':\n",
        "        break\n",
        "    else:\n",
        "        lunch.remove(item)\n",
        "\n",
        "print(lunch,\"중에서 선택합니다\")\n",
        "\n",
        "for i in range(5,0,-1):\n",
        "    print(i)\n",
        "    time.sleep(1)\n",
        "\n",
        "print(random.choice(lunch))\n"
      ],
      "metadata": {
        "id": "hzgMM3NaUbm8"
      },
      "execution_count": null,
      "outputs": []
    },
    {
      "cell_type": "markdown",
      "source": [
        "# Python으로 만드는 익명 질문 게시판\n"
      ],
      "metadata": {
        "id": "PhlJJP67UD-o"
      }
    },
    {
      "cell_type": "code",
      "source": [
        "def make_dolce():\n",
        "    print(\"1. 얼음을 넣는다\")\n",
        "    print(\"2. 연유를 30ml 넣는다\")\n",
        "    print(\"3. 찬 우유를 넣는다\")\n",
        "    print(\"4. 에스프레소 샷을 넣는다\")\n",
        "\n",
        "def make_blueberry_smoothie():\n",
        "    print(\"1. 블루베리 20g을 넣는다.\")\n",
        "    print(\"2. 우유 300ml를 넣는다.\")\n",
        "    print(\"3. 얼음을 넣는다.\")\n",
        "    print(\"4. 믹서기에 간다.\")\n",
        "\n",
        "def make_simple_latte():\n",
        "    print(\"1. 블루베리 20g을 넣는다.\")\n",
        "    print(\"2. 우유 300ml를 넣는다.\")\n",
        "    print(\"3. 얼음을 넣는다.\")\n",
        "    print(\"4. 믹서기에 간다.\")\n",
        "\n",
        "make_simple_latte()\n",
        "make_blueberry_smoothie()"
      ],
      "metadata": {
        "colab": {
          "base_uri": "https://localhost:8080/"
        },
        "id": "hms06s1SUPSV",
        "outputId": "b3bf5092-7df4-4394-e5f5-70acb8e80db2"
      },
      "execution_count": null,
      "outputs": [
        {
          "output_type": "stream",
          "name": "stdout",
          "text": [
            "1. 블루베리 20g을 넣는다.\n",
            "2. 우유 300ml를 넣는다.\n",
            "3. 얼음을 넣는다.\n",
            "4. 믹서기에 간다.\n",
            "1. 블루베리 20g을 넣는다.\n",
            "2. 우유 300ml를 넣는다.\n",
            "3. 얼음을 넣는다.\n",
            "4. 믹서기에 간다.\n"
          ]
        }
      ]
    },
    {
      "cell_type": "code",
      "source": [
        "total_dictionary = {}\n",
        "\n",
        "while True:\n",
        "    question = input(\"질문을 입력해주세요 : \")\n",
        "    if question == \"q\":\n",
        "        break\n",
        "    else:\n",
        "        total_dictionary[question] = \"\"\n",
        "\n",
        "for i in total_dictionary:\n",
        "    print(i)\n",
        "    answer = input(\"답변을 입력해주세요 : \")\n",
        "    total_dictionary[i] = answer\n",
        "print(total_dictionary)"
      ],
      "metadata": {
        "colab": {
          "base_uri": "https://localhost:8080/"
        },
        "id": "Nda8fLson93z",
        "outputId": "1993ddc1-5f15-4421-c3cb-ea4b51382871"
      },
      "execution_count": 104,
      "outputs": [
        {
          "output_type": "stream",
          "name": "stdout",
          "text": [
            "질문을 입력해주세요 : 취미는\n",
            "질문을 입력해주세요 : 특기는\n",
            "질문을 입력해주세요 : q\n",
            "취미는\n",
            "답변을 입력해주세요 : 라면\n",
            "특기는\n",
            "답변을 입력해주세요 : 운동\n",
            "{'취미는': '라면', '특기는': '운동'}\n"
          ]
        }
      ]
    },
    {
      "cell_type": "code",
      "source": [
        "total_list = []\n",
        "\n",
        "while True:\n",
        "    question = input(\"질문을 입력해주세요 : \")\n",
        "    if question == \"q\":\n",
        "        break\n",
        "    else:\n",
        "        total_list.append({\"질문\" : question, \"답변\" : \"\"})\n",
        "\n",
        "\n",
        "\n",
        "for i in total_list:\n",
        "    print(i[\"질문\"])\n",
        "    answer = input(\"답변을 입력해주세요 : \")\n",
        "    i[\"답변\"] = answer\n",
        "\n",
        "print(total_list)\n",
        "\n",
        "\n",
        "\n"
      ],
      "metadata": {
        "id": "vNpJ_XCkdSUv",
        "colab": {
          "base_uri": "https://localhost:8080/"
        },
        "outputId": "4b8c0bc7-4c16-4528-e613-bf4dea15b1e3"
      },
      "execution_count": 99,
      "outputs": [
        {
          "output_type": "stream",
          "name": "stdout",
          "text": [
            "질문을 입력해주세요 : 취미는\n",
            "질문을 입력해주세요 : 특기는\n",
            "질문을 입력해주세요 : q\n",
            "취미는\n",
            "답변을 입력해주세요 : 축구\n",
            "특기는\n",
            "답변을 입력해주세요 : 운동\n",
            "[{'질문': '취미는', '답변': '축구'}, {'질문': '특기는', '답변': '운동'}]\n"
          ]
        }
      ]
    }
  ]
}