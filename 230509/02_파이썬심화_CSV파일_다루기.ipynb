{
  "nbformat": 4,
  "nbformat_minor": 0,
  "metadata": {
    "colab": {
      "provenance": []
    },
    "kernelspec": {
      "name": "python3",
      "display_name": "Python 3"
    },
    "language_info": {
      "name": "python"
    }
  },
  "cells": [
    {
      "cell_type": "markdown",
      "source": [
        "#1. 파일\n",
        "\n",
        "* 파일은 컴퓨터를 실행할때 가장 기본이 되는 단위.\n",
        "* 보통 프로그램실행할때 파일 실행한다.\n",
        "* 그 중의 우리는 CSV, Excel, Txt, .py 파일"
      ],
      "metadata": {
        "id": "aMXguOBNw6I2"
      }
    },
    {
      "cell_type": "code",
      "source": [
        "# 1. 파일 읽기 예제\n",
        "\n",
        "#f = open(\"파일명\" , \"파일 열기 모드\")\n",
        "#f.close()\n",
        "\n",
        "# 파일 여는 모드는 읽기, 쓰기, 추가 등등이 있음\n",
        "# 읽기모드 -> r / 쓰기 w / 추가 a\n",
        "\n",
        "f = open('song_new.txt', 'w')"
      ],
      "metadata": {
        "id": "WafbLrGPxA0d"
      },
      "execution_count": null,
      "outputs": []
    },
    {
      "cell_type": "code",
      "source": [
        "f.write('''\n",
        "이윽고 내가 한눈에 너를 알아봤을 때\n",
        "모든 건 분명 달라지고 있었어\n",
        "내 세상은 널 알기 전과 후로 나뉘어\n",
        "니가 숨 쉬면 따스한 바람이 불어와\n",
        "니가 웃으면 눈부신 햇살이 비춰\n",
        "거기 있어줘서 그게 너라서\n",
        "가끔 내 어깨에 가만히 기대주어서\n",
        "나는 있잖아 정말 빈틈없이 행복해\n",
        "너를 따라서 시간은 흐르고 멈춰\n",
        "물끄러미 너를 들여다 보곤 해\n",
        "그것 말고는 아무것도 할 수 없어서\n",
        "너의 모든 순간 그게 나였으면 좋겠다\n",
        "생각만 해도 가슴이 차올라 나는 온통 너로\n",
        "보고 있으면 왠지 꿈처럼 아득한 것\n",
        "몇 광년 동안 날 향해 날아온 별빛 또 지금의 너\n",
        "*거기 있어줘서 그게 너라서\n",
        "가끔 나에게 조용하게 안겨주어서\n",
        "나는 있잖아 정말 남김없이 고마워\n",
        "너를 따라서 시간은 흐르고 멈춰\n",
        "물끄러미 너를 들여다보곤 해\n",
        "너를 보는 게 나에게는 사랑이니까\n",
        "너의 모든 순간 그게 나였으면 좋겠다...\n",
        "''')"
      ],
      "metadata": {
        "colab": {
          "base_uri": "https://localhost:8080/"
        },
        "id": "Wv-9FqrEx9Di",
        "outputId": "51b41321-ed82-4bf7-ae83-bea06f67279c"
      },
      "execution_count": null,
      "outputs": [
        {
          "output_type": "execute_result",
          "data": {
            "text/plain": [
              "429"
            ]
          },
          "metadata": {},
          "execution_count": 9
        }
      ]
    },
    {
      "cell_type": "code",
      "source": [
        "f.close()"
      ],
      "metadata": {
        "id": "q7soeOfdyfXd"
      },
      "execution_count": null,
      "outputs": []
    },
    {
      "cell_type": "code",
      "source": [
        "f = open('song_new.txt', 'r')\n",
        "contents = f.read()\n",
        "print(contents)\n",
        "f.close()\n",
        "\n",
        "# 1행에서 open()함수 다음에 파일명 다음에 읽기 모드 r을 입력해서 파일에 대한 값을 f에 저장\n",
        "# 2행에서 f를 이용해서 Read()함수를 실행하면 해당 파일의 텍스트들이 contents에 할당이 되고\n",
        "Print()"
      ],
      "metadata": {
        "colab": {
          "base_uri": "https://localhost:8080/"
        },
        "id": "6YDwBJ0WzHIz",
        "outputId": "d686abf8-7594-48df-9888-1e5f8697fc95"
      },
      "execution_count": null,
      "outputs": [
        {
          "output_type": "stream",
          "name": "stdout",
          "text": [
            "\n",
            "이윽고 내가 한눈에 너를 알아봤을 때\n",
            "모든 건 분명 달라지고 있었어\n",
            "내 세상은 널 알기 전과 후로 나뉘어\n",
            "니가 숨 쉬면 따스한 바람이 불어와\n",
            "니가 웃으면 눈부신 햇살이 비춰\n",
            "거기 있어줘서 그게 너라서\n",
            "가끔 내 어깨에 가만히 기대주어서\n",
            "나는 있잖아 정말 빈틈없이 행복해\n",
            "너를 따라서 시간은 흐르고 멈춰\n",
            "물끄러미 너를 들여다 보곤 해\n",
            "그것 말고는 아무것도 할 수 없어서\n",
            "너의 모든 순간 그게 나였으면 좋겠다\n",
            "생각만 해도 가슴이 차올라 나는 온통 너로\n",
            "보고 있으면 왠지 꿈처럼 아득한 것\n",
            "몇 광년 동안 날 향해 날아온 별빛 또 지금의 너\n",
            "*거기 있어줘서 그게 너라서\n",
            "가끔 나에게 조용하게 안겨주어서\n",
            "나는 있잖아 정말 남김없이 고마워\n",
            "너를 따라서 시간은 흐르고 멈춰\n",
            "물끄러미 너를 들여다보곤 해\n",
            "너를 보는 게 나에게는 사랑이니까\n",
            "너의 모든 순간 그게 나였으면 좋겠다...\n",
            "\n",
            "이윽고 내가 한눈에 너를 알아봤을 때\n",
            "모든 건 분명 달라지고 있었어\n",
            "내 세상은 널 알기 전과 후로 나뉘어\n",
            "니가 숨 쉬면 따스한 바람이 불어와\n",
            "니가 웃으면 눈부신 햇살이 비춰\n",
            "거기 있어줘서 그게 너라서\n",
            "가끔 내 어깨에 가만히 기대주어서\n",
            "나는 있잖아 정말 빈틈없이 행복해\n",
            "너를 따라서 시간은 흐르고 멈춰\n",
            "물끄러미 너를 들여다 보곤 해\n",
            "그것 말고는 아무것도 할 수 없어서\n",
            "너의 모든 순간 그게 나였으면 좋겠다\n",
            "생각만 해도 가슴이 차올라 나는 온통 너로\n",
            "보고 있으면 왠지 꿈처럼 아득한 것\n",
            "몇 광년 동안 날 향해 날아온 별빛 또 지금의 너\n",
            "*거기 있어줘서 그게 너라서\n",
            "가끔 나에게 조용하게 안겨주어서\n",
            "나는 있잖아 정말 남김없이 고마워\n",
            "너를 따라서 시간은 흐르고 멈춰\n",
            "물끄러미 너를 들여다보곤 해\n",
            "너를 보는 게 나에게는 사랑이니까\n",
            "너의 모든 순간 그게 나였으면 좋겠다...\n",
            "\n"
          ]
        }
      ]
    },
    {
      "cell_type": "code",
      "source": [
        "# with문\n",
        "\n",
        "# with을 활용해서 Open()함수를 대체할 수 있다.\n",
        "## with문은 들여쓰기를 잘해야한다. 함수 if\n",
        "# 결론적으로 close()문을 안쓰는 편리함이 있고,\n",
        "\n",
        "with open('song.txt', 'r') as my_song_list:\n",
        "  content = my_song_list.read()\n",
        "  print(content)"
      ],
      "metadata": {
        "colab": {
          "base_uri": "https://localhost:8080/"
        },
        "id": "A4kht2xVzUX2",
        "outputId": "a224f8c8-4c78-4e47-c23a-5c2c391dfc7f"
      },
      "execution_count": null,
      "outputs": [
        {
          "output_type": "stream",
          "name": "stdout",
          "text": [
            "\n",
            "이윽고 내가 한눈에 너를 알아봤을 때\n",
            "모든 건 분명 달라지고 있었어\n",
            "내 세상은 널 알기 전과 후로 나뉘어\n",
            "니가 숨 쉬면 따스한 바람이 불어와\n",
            "니가 웃으면 눈부신 햇살이 비춰\n",
            "거기 있어줘서 그게 너라서\n",
            "가끔 내 어깨에 가만히 기대주어서\n",
            "나는 있잖아 정말 빈틈없이 행복해\n",
            "너를 따라서 시간은 흐르고 멈춰\n",
            "물끄러미 너를 들여다 보곤 해\n",
            "그것 말고는 아무것도 할 수 없어서\n",
            "너의 모든 순간 그게 나였으면 좋겠다\n",
            "생각만 해도 가슴이 차올라 나는 온통 너로\n",
            "보고 있으면 왠지 꿈처럼 아득한 것\n",
            "몇 광년 동안 날 향해 날아온 별빛 또 지금의 너\n",
            "*거기 있어줘서 그게 너라서\n",
            "가끔 나에게 조용하게 안겨주어서\n",
            "나는 있잖아 정말 남김없이 고마워\n",
            "너를 따라서 시간은 흐르고 멈춰\n",
            "물끄러미 너를 들여다보곤 해\n",
            "너를 보는 게 나에게는 사랑이니까\n",
            "너의 모든 순간 그게 나였으면 좋겠다... 펼쳐보기\n",
            "\n"
          ]
        }
      ]
    },
    {
      "cell_type": "code",
      "source": [
        "# 한줄로 읽어오는 방법\n",
        "# 파일 전체의 텍스트를 문자열로 반환하는 read()대신에 readlines()함수를 사용하면 \n",
        "# 한줄의 기준은 \\n\n",
        "\n",
        "with open('song.txt', 'r') as my_song_list:\n",
        "  content_list = my_song_list.readlines()\n",
        "  print(content_list)"
      ],
      "metadata": {
        "colab": {
          "base_uri": "https://localhost:8080/"
        },
        "id": "-BYMVRJ30BiB",
        "outputId": "94447f0a-f13e-4939-d47e-e11a179b2cc3"
      },
      "execution_count": null,
      "outputs": [
        {
          "output_type": "stream",
          "name": "stdout",
          "text": [
            "['\\n', '이윽고 내가 한눈에 너를 알아봤을 때\\n', '모든 건 분명 달라지고 있었어\\n', '내 세상은 널 알기 전과 후로 나뉘어\\n', '니가 숨 쉬면 따스한 바람이 불어와\\n', '니가 웃으면 눈부신 햇살이 비춰\\n', '거기 있어줘서 그게 너라서\\n', '가끔 내 어깨에 가만히 기대주어서\\n', '나는 있잖아 정말 빈틈없이 행복해\\n', '너를 따라서 시간은 흐르고 멈춰\\n', '물끄러미 너를 들여다 보곤 해\\n', '그것 말고는 아무것도 할 수 없어서\\n', '너의 모든 순간 그게 나였으면 좋겠다\\n', '생각만 해도 가슴이 차올라 나는 온통 너로\\n', '보고 있으면 왠지 꿈처럼 아득한 것\\n', '몇 광년 동안 날 향해 날아온 별빛 또 지금의 너\\n', '*거기 있어줘서 그게 너라서\\n', '가끔 나에게 조용하게 안겨주어서\\n', '나는 있잖아 정말 남김없이 고마워\\n', '너를 따라서 시간은 흐르고 멈춰\\n', '물끄러미 너를 들여다보곤 해\\n', '너를 보는 게 나에게는 사랑이니까\\n', '너의 모든 순간 그게 나였으면 좋겠다... 펼쳐보기\\n']\n"
          ]
        }
      ]
    },
    {
      "cell_type": "code",
      "source": [
        "content_list[2]"
      ],
      "metadata": {
        "colab": {
          "base_uri": "https://localhost:8080/",
          "height": 36
        },
        "id": "UkcdfCaA0nvV",
        "outputId": "8d15fbce-fde3-40cd-d995-4a5d7d342427"
      },
      "execution_count": null,
      "outputs": [
        {
          "output_type": "execute_result",
          "data": {
            "text/plain": [
              "'모든 건 분명 달라지고 있었어\\n'"
            ],
            "application/vnd.google.colaboratory.intrinsic+json": {
              "type": "string"
            }
          },
          "metadata": {},
          "execution_count": 17
        }
      ]
    },
    {
      "cell_type": "code",
      "source": [
        "with open('song.txt', 'r') as my_song_list:\n",
        "  i = 0\n",
        "  while True:\n",
        "    line = my_song_list.readline()\n",
        "    if not line:\n",
        "      break\n",
        "    print(line.replace(\"\\n\", \"\"))\n",
        "    i = i + 1"
      ],
      "metadata": {
        "colab": {
          "base_uri": "https://localhost:8080/"
        },
        "id": "D8NpnnHu0wrc",
        "outputId": "7554d452-c3a6-4f75-9ebc-4c1d7009bbf9"
      },
      "execution_count": null,
      "outputs": [
        {
          "output_type": "stream",
          "name": "stdout",
          "text": [
            "\n",
            "이윽고 내가 한눈에 너를 알아봤을 때\n",
            "모든 건 분명 달라지고 있었어\n",
            "내 세상은 널 알기 전과 후로 나뉘어\n",
            "니가 숨 쉬면 따스한 바람이 불어와\n",
            "니가 웃으면 눈부신 햇살이 비춰\n",
            "거기 있어줘서 그게 너라서\n",
            "가끔 내 어깨에 가만히 기대주어서\n",
            "나는 있잖아 정말 빈틈없이 행복해\n",
            "너를 따라서 시간은 흐르고 멈춰\n",
            "물끄러미 너를 들여다 보곤 해\n",
            "그것 말고는 아무것도 할 수 없어서\n",
            "너의 모든 순간 그게 나였으면 좋겠다\n",
            "생각만 해도 가슴이 차올라 나는 온통 너로\n",
            "보고 있으면 왠지 꿈처럼 아득한 것\n",
            "몇 광년 동안 날 향해 날아온 별빛 또 지금의 너\n",
            "*거기 있어줘서 그게 너라서\n",
            "가끔 나에게 조용하게 안겨주어서\n",
            "나는 있잖아 정말 남김없이 고마워\n",
            "너를 따라서 시간은 흐르고 멈춰\n",
            "물끄러미 너를 들여다보곤 해\n",
            "너를 보는 게 나에게는 사랑이니까\n",
            "너의 모든 순간 그게 나였으면 좋겠다... 펼쳐보기\n"
          ]
        }
      ]
    },
    {
      "cell_type": "code",
      "source": [
        "song_list_new = []\n",
        "\n",
        "with open('song.txt', 'r') as my_song_list:\n",
        "  i = 0\n",
        "  while True:\n",
        "    line = my_song_list.readline()\n",
        "    if not line:\n",
        "      break\n",
        "    song_list_new.append(line.replace(\"\\n\", \"\"))\n",
        "    i = i + 1"
      ],
      "metadata": {
        "id": "EWjMlpw11KKA"
      },
      "execution_count": null,
      "outputs": []
    },
    {
      "cell_type": "code",
      "source": [
        "song_list_new"
      ],
      "metadata": {
        "colab": {
          "base_uri": "https://localhost:8080/"
        },
        "id": "UxvvYqKN1Z83",
        "outputId": "c96340e0-01f0-40be-ad11-ba846527040e"
      },
      "execution_count": null,
      "outputs": [
        {
          "output_type": "execute_result",
          "data": {
            "text/plain": [
              "['',\n",
              " '이윽고 내가 한눈에 너를 알아봤을 때',\n",
              " '모든 건 분명 달라지고 있었어',\n",
              " '내 세상은 널 알기 전과 후로 나뉘어',\n",
              " '니가 숨 쉬면 따스한 바람이 불어와',\n",
              " '니가 웃으면 눈부신 햇살이 비춰',\n",
              " '거기 있어줘서 그게 너라서',\n",
              " '가끔 내 어깨에 가만히 기대주어서',\n",
              " '나는 있잖아 정말 빈틈없이 행복해',\n",
              " '너를 따라서 시간은 흐르고 멈춰',\n",
              " '물끄러미 너를 들여다 보곤 해',\n",
              " '그것 말고는 아무것도 할 수 없어서',\n",
              " '너의 모든 순간 그게 나였으면 좋겠다',\n",
              " '생각만 해도 가슴이 차올라 나는 온통 너로',\n",
              " '보고 있으면 왠지 꿈처럼 아득한 것',\n",
              " '몇 광년 동안 날 향해 날아온 별빛 또 지금의 너',\n",
              " '*거기 있어줘서 그게 너라서',\n",
              " '가끔 나에게 조용하게 안겨주어서',\n",
              " '나는 있잖아 정말 남김없이 고마워',\n",
              " '너를 따라서 시간은 흐르고 멈춰',\n",
              " '물끄러미 너를 들여다보곤 해',\n",
              " '너를 보는 게 나에게는 사랑이니까',\n",
              " '너의 모든 순간 그게 나였으면 좋겠다... 펼쳐보기']"
            ]
          },
          "metadata": {},
          "execution_count": 20
        }
      ]
    },
    {
      "cell_type": "code",
      "source": [
        "with open('song.txt','r') as my_song_list:\n",
        "  contents = my_song_list.read()\n",
        "  word_list = contents.split(\" \")\n",
        "  line_list = contents.split(\"\\n\")\n",
        "\n",
        "print(f\"총 글자수는 {len(contents)}입니다.\")\n",
        "print(f\"총 단어수는 {len(word_list)}입니다.\")\n",
        "print(f\"총 줄수는 {len(line_list)}입니다.\")"
      ],
      "metadata": {
        "colab": {
          "base_uri": "https://localhost:8080/"
        },
        "id": "hNVecos91a4T",
        "outputId": "ef4041f7-9627-445b-8a5e-c850ba289a61"
      },
      "execution_count": null,
      "outputs": [
        {
          "output_type": "stream",
          "name": "stdout",
          "text": [
            "총 글자수는 434입니다.\n",
            "총 단어수는 101입니다.\n",
            "총 줄수는 24입니다.\n"
          ]
        }
      ]
    },
    {
      "cell_type": "code",
      "source": [
        "### 파일쓰기\n",
        "\n",
        "# 앞서 파일쓰기 중에서 인코딩 utf-8 / cp949 / euc-kr \n",
        "\n",
        "# 인코딩 실습\n",
        "\n",
        "f = open(\"count_list.txt\", 'w', encoding = 'utf8')"
      ],
      "metadata": {
        "id": "Jf6ye0XK2DqU"
      },
      "execution_count": null,
      "outputs": []
    },
    {
      "cell_type": "code",
      "source": [
        "for i in range(1, 11):\n",
        "  data = f'{i}번째입니다.'\n",
        "  f.write(data)\n",
        "f.close()\n"
      ],
      "metadata": {
        "id": "33ovjeOv2-wp"
      },
      "execution_count": null,
      "outputs": []
    },
    {
      "cell_type": "code",
      "source": [
        "with open('count_list_new.txt', 'w', encoding = 'utf8') as f:\n",
        "  for i in range(1,11):\n",
        "    data = f'{i}번째입니다.'\n",
        "    f.write(data)"
      ],
      "metadata": {
        "id": "-SSz8hIY3Ivv"
      },
      "execution_count": null,
      "outputs": []
    },
    {
      "cell_type": "code",
      "source": [
        "# Pickle 모듈 \n",
        "\n",
        "파이썬 프로그램을 실행할때마다 변수 객체를 메모리에 저장하고, \n",
        "컴퓨터를 껐다가 켜면 모두 날라가죠\n",
        "\n",
        "파이썬은 pickle모듈을 제공합니다.\n",
        "\n",
        "메모리에 로딩된 객체들을 연속적으로 사용할 수 있게 \n",
        "\n",
        "예를 들어 데이터, 클래스, 함수, 프로그램 \n",
        "향후 대기업, 관련 빅데이터 플랫폼 활용 "
      ],
      "metadata": {
        "id": "h9_YVB6c3e47"
      },
      "execution_count": null,
      "outputs": []
    },
    {
      "cell_type": "code",
      "source": [
        "# pickle 모듈을 사용하려면 import 저장하고자하는 객체를 넘기면됩니다.\n",
        "\n",
        "# 파일 열때 r 파일쓸때 w\n",
        "# pickle에서는 파일을 열때 rb 파일을 쓸때 wb \n",
        "\n",
        "import pickle "
      ],
      "metadata": {
        "id": "7AbmCHaE4v7y"
      },
      "execution_count": null,
      "outputs": []
    },
    {
      "cell_type": "code",
      "source": [
        "f = open('list.pickle' , 'wb')\n",
        "test = [1,2,3,4,5]\n",
        "pickle.dump(test, f)\n",
        "f.close()"
      ],
      "metadata": {
        "id": "UR8LzsF25BVQ"
      },
      "execution_count": null,
      "outputs": []
    },
    {
      "cell_type": "code",
      "source": [
        "f = open('list.pickle', 'rb')\n",
        "test_pickle = pickle.load(f)\n",
        "print(test_pickle)"
      ],
      "metadata": {
        "colab": {
          "base_uri": "https://localhost:8080/"
        },
        "id": "5QXTRIYR5NBa",
        "outputId": "8c1d0581-48cd-4206-a5fe-d29e8cf81177"
      },
      "execution_count": null,
      "outputs": [
        {
          "output_type": "stream",
          "name": "stdout",
          "text": [
            "[1, 2, 3, 4, 5]\n"
          ]
        }
      ]
    },
    {
      "cell_type": "code",
      "source": [
        "# pickle은 클래스도 저장가능하다.\n",
        "\n",
        "class Multiply(object):\n",
        "  def __init__(self, multi):\n",
        "    self.multi = 5\n",
        "  def multiply(self, number):\n",
        "    return number * self.multi\n",
        "\n",
        "multi_test = Multiply(5)\n",
        "multi_test.multiply(10)"
      ],
      "metadata": {
        "colab": {
          "base_uri": "https://localhost:8080/"
        },
        "id": "35PigR7q5uYq",
        "outputId": "56e462f2-a946-4300-d40f-6d2b12a688c5"
      },
      "execution_count": null,
      "outputs": [
        {
          "output_type": "execute_result",
          "data": {
            "text/plain": [
              "50"
            ]
          },
          "metadata": {},
          "execution_count": 30
        }
      ]
    },
    {
      "cell_type": "code",
      "source": [
        "f = open('multiply_object.pickle', 'wb')\n",
        "pickle.dump(multi_test, f)\n",
        "f.close()"
      ],
      "metadata": {
        "id": "lKJnNaN7-oPC"
      },
      "execution_count": null,
      "outputs": []
    },
    {
      "cell_type": "code",
      "source": [
        "f = open('multiply_object.pickle', 'rb')\n",
        "multi_test = pickle.load(f)"
      ],
      "metadata": {
        "id": "QNPpUT3m_DQD"
      },
      "execution_count": null,
      "outputs": []
    },
    {
      "cell_type": "code",
      "source": [
        "multi_test.multiply(10)"
      ],
      "metadata": {
        "colab": {
          "base_uri": "https://localhost:8080/"
        },
        "id": "4sGZaxSY_QDN",
        "outputId": "c69c5ce6-81c7-4cf9-ca29-3cd1170b53ca"
      },
      "execution_count": null,
      "outputs": [
        {
          "output_type": "execute_result",
          "data": {
            "text/plain": [
              "50"
            ]
          },
          "metadata": {},
          "execution_count": 32
        }
      ]
    },
    {
      "cell_type": "markdown",
      "source": [
        "# CSV 데이터\n",
        "\n",
        "* 데이터 분석의 대부분은 통계프로그램이 아니라 엑셀 작업을 주로 해요\n",
        "* 그만큼 우리는 스트레드시트 데이터를 많이보게되고\n",
        "* Excel 잘 다뤄도 -> 데이터분석 잘한다."
      ],
      "metadata": {
        "id": "6ooQezj9_ZAY"
      }
    },
    {
      "cell_type": "markdown",
      "source": [
        "* CSV 쉼표로 나누진 데이터인데\n",
        "* 1,2,3,4,5 -> test.csv / txt\n",
        "* .xlsx -> .csv\n",
        "* 읽기에도 좋고, 용량도 excel파일보다 작고, 콤마로 구분되어서 사용하기 편하거나 전처리하기 좋다.\n",
        "* Python -> excel -> python"
      ],
      "metadata": {
        "id": "jWoWFX7oAIoW"
      }
    },
    {
      "cell_type": "code",
      "source": [
        "import csv\n",
        "import os #경로 지정"
      ],
      "metadata": {
        "id": "oWIu7dis_Q95"
      },
      "execution_count": null,
      "outputs": []
    },
    {
      "cell_type": "code",
      "source": [
        "# 경로 지정\n",
        "\n",
        "os.chdir('/content/sample_data')"
      ],
      "metadata": {
        "id": "ZYHHdKCeAuOH"
      },
      "execution_count": null,
      "outputs": []
    },
    {
      "cell_type": "code",
      "source": [
        "# open\n",
        "\n",
        "f = open('test.csv', 'r', encoding = 'utf-8')"
      ],
      "metadata": {
        "id": "pQigXpEdC82E"
      },
      "execution_count": null,
      "outputs": []
    },
    {
      "cell_type": "code",
      "source": [
        "new = csv.reader(f)\n",
        "new"
      ],
      "metadata": {
        "colab": {
          "base_uri": "https://localhost:8080/"
        },
        "id": "0xQ6W0nfBZtu",
        "outputId": "0de2a40a-c5a4-4cc9-ae30-060a095baaab"
      },
      "execution_count": null,
      "outputs": [
        {
          "output_type": "execute_result",
          "data": {
            "text/plain": [
              "<_csv.reader at 0x7fdc0d12ff40>"
            ]
          },
          "metadata": {},
          "execution_count": 6
        }
      ]
    },
    {
      "cell_type": "code",
      "source": [
        "print(new)"
      ],
      "metadata": {
        "colab": {
          "base_uri": "https://localhost:8080/"
        },
        "id": "UvOsuGInDYEy",
        "outputId": "4e12742d-c579-4701-9b83-b465dab10a53"
      },
      "execution_count": null,
      "outputs": [
        {
          "output_type": "stream",
          "name": "stdout",
          "text": [
            "<_csv.reader object at 0x7f537e20f610>\n"
          ]
        }
      ]
    },
    {
      "cell_type": "code",
      "source": [
        "# csv파일 출력하기\n",
        "\n",
        "a_list = []\n",
        "for i in new:\n",
        "  print(i)\n",
        "  a_list.append(i)"
      ],
      "metadata": {
        "colab": {
          "base_uri": "https://localhost:8080/"
        },
        "id": "xokJsw3ZDSmL",
        "outputId": "fbf90b7d-c0f7-4cab-8030-25dd7dde1388"
      },
      "execution_count": null,
      "outputs": [
        {
          "output_type": "stream",
          "name": "stdout",
          "text": [
            "['국어', '영어', '수학', '', '', '', '']\n",
            "['50', '80', '90', '', '', '', '']\n"
          ]
        }
      ]
    },
    {
      "cell_type": "code",
      "source": [
        "# 함수화 하기\n",
        "\n",
        "def opencsv(filename):\n",
        "  f = open(filename, 'r')\n",
        "  reader = csv.reader(f)\n",
        "  output = []\n",
        "  for i in reader:\n",
        "    output.append(i)\n",
        "  return output"
      ],
      "metadata": {
        "id": "_7s0MH7oDwkS"
      },
      "execution_count": null,
      "outputs": []
    },
    {
      "cell_type": "code",
      "source": [
        "opencsv('test.csv')"
      ],
      "metadata": {
        "colab": {
          "base_uri": "https://localhost:8080/"
        },
        "id": "_pLeu2-iEqQh",
        "outputId": "99fb7d4a-2dea-40fc-f18f-df047a7e6649"
      },
      "execution_count": null,
      "outputs": [
        {
          "output_type": "execute_result",
          "data": {
            "text/plain": [
              "[['국어', '영어', '수학', '', '', '', ''], ['50', '80', '90', '', '', '', '']]"
            ]
          },
          "metadata": {},
          "execution_count": 11
        }
      ]
    },
    {
      "cell_type": "code",
      "source": [
        "# 새로운 데이터 읽기 예제\n",
        "\n",
        "a = [['구', '전체', '내국인', '외국인'], \n",
        "     ['관악구','519864','502089','17775'], \n",
        "     ['강남구','547602','542498','5104'], \n",
        "     ['송파구','686181', '679247', '6934'], \n",
        "     ['강동구','428547','424235','4312']]"
      ],
      "metadata": {
        "id": "t1fnd1vZEtaw"
      },
      "execution_count": null,
      "outputs": []
    },
    {
      "cell_type": "code",
      "source": [
        "a"
      ],
      "metadata": {
        "colab": {
          "base_uri": "https://localhost:8080/"
        },
        "id": "8fl75KPiFPHg",
        "outputId": "29fea5d0-e30d-44bd-cc0e-25976ba35872"
      },
      "execution_count": null,
      "outputs": [
        {
          "output_type": "execute_result",
          "data": {
            "text/plain": [
              "[['구', '전체', '내국인', '외국인'],\n",
              " ['관악구', '519864', '502089', '17775'],\n",
              " ['강남구', '547602', '542498', '5104'],\n",
              " ['송파구', '686181', '679247', '6934'],\n",
              " ['강동구', '428547', '424235', '4312']]"
            ]
          },
          "metadata": {},
          "execution_count": 13
        }
      ]
    },
    {
      "cell_type": "code",
      "source": [
        "f = open('abc.csv', 'w', newline = '')"
      ],
      "metadata": {
        "id": "mzPWUVXWFP7S"
      },
      "execution_count": null,
      "outputs": []
    },
    {
      "cell_type": "code",
      "source": [
        "new_csv = csv.writer(f, delimiter = ',')"
      ],
      "metadata": {
        "id": "1WmUCW9gFXD7"
      },
      "execution_count": null,
      "outputs": []
    },
    {
      "cell_type": "code",
      "source": [
        "new_csv.writerows(a) #a자료를 csv파일에 넣기\n",
        "f.close()"
      ],
      "metadata": {
        "id": "CnhGBelfFewE"
      },
      "execution_count": null,
      "outputs": []
    },
    {
      "cell_type": "code",
      "source": [
        "# 새로운 데이터 쓰기 예제\n",
        "\n",
        "b = [['구', '전체', '내국인', '외국인'], \n",
        "     ['관악구','519864','502089','17775'], \n",
        "     ['강남구','547602','542498','5104'], \n",
        "     ['송파구','686181', '679247', '6934'], \n",
        "     ['강동구','428547','424235','4312']]"
      ],
      "metadata": {
        "id": "DE-SyInfFmeZ"
      },
      "execution_count": null,
      "outputs": []
    },
    {
      "cell_type": "code",
      "source": [
        "# 함수화 하기\n",
        "\n",
        "def writecsv(filename, list):\n",
        "  with open(filename, 'w', newline = '') as f:\n",
        "    a = csv.writer(f, delimiter = ',')\n",
        "    a.writerows(list)"
      ],
      "metadata": {
        "id": "3KUV_7_5GBcl"
      },
      "execution_count": null,
      "outputs": []
    },
    {
      "cell_type": "code",
      "source": [
        "writecsv('new_abc.csv', b)"
      ],
      "metadata": {
        "id": "ocLIH7MZGPbU"
      },
      "execution_count": null,
      "outputs": []
    },
    {
      "cell_type": "code",
      "source": [
        "import os\n",
        "os.chdir('/content/')"
      ],
      "metadata": {
        "id": "S6Z71vSaWLtA"
      },
      "execution_count": null,
      "outputs": []
    },
    {
      "cell_type": "code",
      "source": [
        "import csv"
      ],
      "metadata": {
        "id": "-2A-DsySXAbC"
      },
      "execution_count": null,
      "outputs": []
    },
    {
      "cell_type": "code",
      "source": [
        "# 함수화 하기\n",
        "def opencsv(filename):\n",
        "  f = open(filename, 'r')\n",
        "  reader = csv.reader(f)\n",
        "  output = []\n",
        "  for i in reader:\n",
        "    output.append(i)\n",
        "  return output"
      ],
      "metadata": {
        "id": "QGXFsm8aXF8e"
      },
      "execution_count": null,
      "outputs": []
    },
    {
      "cell_type": "code",
      "source": [
        "total = opencsv('seoul.csv')"
      ],
      "metadata": {
        "id": "RCnTsXL7GWqI"
      },
      "execution_count": null,
      "outputs": []
    },
    {
      "cell_type": "code",
      "source": [
        "total"
      ],
      "metadata": {
        "colab": {
          "base_uri": "https://localhost:8080/"
        },
        "id": "GzhtBrUrXCur",
        "outputId": "d594cea9-4267-4f87-a103-f4de94a4cc36"
      },
      "execution_count": null,
      "outputs": [
        {
          "output_type": "execute_result",
          "data": {
            "text/plain": [
              "[['Gu', 'Korean', 'Foreigner', 'Senior'],\n",
              " ['Total', '9,740,398', '285,529', '1,468,146'],\n",
              " ['Jongrogu', '151,767', '11,093', '27,394'],\n",
              " ['Jongru', '126,409', '10,254', '23,025'],\n",
              " ['Yongsangu', '228,830', '16,159', '38,531'],\n",
              " ['Seongdonggu', '303,158', '8,132', '43,662'],\n",
              " ['Kwangjingu', '352,692', '15,645', '47,347'],\n",
              " ['Dongdaemoongu', '346,551', '17,228', '58,764'],\n",
              " ['Jungranggu', '398,812', '4,964', '64,449'],\n",
              " ['Seongbukgu', '441,590', '12,524', '70,204'],\n",
              " ['Gangbukgu', '314,090', '3,785', '59,808'],\n",
              " ['Dobonggu', '335,280', '2,314', '58,070'],\n",
              " ['Nowonggu', '535,282', '4,547', '79,968'],\n",
              " ['Eunpyonggu', '481,663', '4,496', '79,957'],\n",
              " ['Seodaemungu', '310,069', '14,020', '51,708'],\n",
              " ['Mapogu', '373,629', '11,976', '51,961'],\n",
              " ['Yangcheongu', '459,849', '4,082', '60,487'],\n",
              " ['Gangseogu', '593,708', '6,532', '82,937'],\n",
              " ['Gurogu', '406,748', '33,102', '64,952'],\n",
              " ['Guemcheongu', '233,371', '19,497', '37,191'],\n",
              " ['Youngdeungpogu', '368,402', '34,076', '57,350'],\n",
              " ['Dongjakgu', '397,618', '12,869', '61,607'],\n",
              " ['Kwanakgu', '502,117', '17,836', '74,518'],\n",
              " ['Seoucheogu', '431,027', '4,231', '56,455'],\n",
              " ['Gangnamgu', '544,028', '5,015', '70,029'],\n",
              " ['Songpagu', '677,489', '6,849', '86,062'],\n",
              " ['Gangdonggu', '426,219', '4,303', '61,710']]"
            ]
          },
          "metadata": {},
          "execution_count": 25
        }
      ]
    },
    {
      "cell_type": "code",
      "source": [
        "# 상위 5개 파일 불러오기 head() 상위 5개 불러오기\n",
        "for i in total [:5]:\n",
        "  print(i)"
      ],
      "metadata": {
        "colab": {
          "base_uri": "https://localhost:8080/"
        },
        "id": "MqODPRX7XSnz",
        "outputId": "9e7f355e-1c46-4fb3-a303-2a96e47d56e7"
      },
      "execution_count": null,
      "outputs": [
        {
          "output_type": "stream",
          "name": "stdout",
          "text": [
            "['Gu', 'Korean', 'Foreigner', 'Senior']\n",
            "['Total', '9,740,398', '285,529', '1,468,146']\n",
            "['Jongrogu', '151,767', '11,093', '27,394']\n",
            "['Jongru', '126,409', '10,254', '23,025']\n",
            "['Yongsangu', '228,830', '16,159', '38,531']\n"
          ]
        }
      ]
    },
    {
      "cell_type": "code",
      "source": [
        "# 숫자형이 문자형으로 되어있는것\n",
        "# '9,740,398'\n",
        "# 9740398 -> 회계 9,740,398\n",
        "\n",
        "i = '123'\n",
        "float(i)"
      ],
      "metadata": {
        "colab": {
          "base_uri": "https://localhost:8080/"
        },
        "id": "cMGqgejNX6bb",
        "outputId": "e8ec6b47-2298-47a9-a92c-ae8cf0ca8a3d"
      },
      "execution_count": null,
      "outputs": [
        {
          "output_type": "execute_result",
          "data": {
            "text/plain": [
              "123.0"
            ]
          },
          "metadata": {},
          "execution_count": 8
        }
      ]
    },
    {
      "cell_type": "code",
      "source": [
        "int(i)"
      ],
      "metadata": {
        "colab": {
          "base_uri": "https://localhost:8080/"
        },
        "id": "1XrF8eltYgPM",
        "outputId": "2fd48170-0a4d-455d-bfa6-8bfa4f963021"
      },
      "execution_count": null,
      "outputs": [
        {
          "output_type": "execute_result",
          "data": {
            "text/plain": [
              "123"
            ]
          },
          "metadata": {},
          "execution_count": 9
        }
      ]
    },
    {
      "cell_type": "code",
      "source": [
        "#문자형을 실수형으로 바꿀때 ,가 있으면 에러가 납니다.\n",
        "float('123,456')"
      ],
      "metadata": {
        "colab": {
          "base_uri": "https://localhost:8080/",
          "height": 188
        },
        "id": "xl-1b2rfYhUK",
        "outputId": "a9bc50a0-c6cf-431f-aee2-42e91d907c84"
      },
      "execution_count": null,
      "outputs": [
        {
          "output_type": "error",
          "ename": "ValueError",
          "evalue": "ignored",
          "traceback": [
            "\u001b[0;31m---------------------------------------------------------------------------\u001b[0m",
            "\u001b[0;31mValueError\u001b[0m                                Traceback (most recent call last)",
            "\u001b[0;32m<ipython-input-10-d96b5e226460>\u001b[0m in \u001b[0;36m<cell line: 2>\u001b[0;34m()\u001b[0m\n\u001b[1;32m      1\u001b[0m \u001b[0;31m#문자형을 실수형으로 바꿀때 ,가 있으면 에러가 납니다.\u001b[0m\u001b[0;34m\u001b[0m\u001b[0;34m\u001b[0m\u001b[0m\n\u001b[0;32m----> 2\u001b[0;31m \u001b[0mfloat\u001b[0m\u001b[0;34m(\u001b[0m\u001b[0;34m'123,456'\u001b[0m\u001b[0;34m)\u001b[0m\u001b[0;34m\u001b[0m\u001b[0;34m\u001b[0m\u001b[0m\n\u001b[0m",
            "\u001b[0;31mValueError\u001b[0m: could not convert string to float: '123,456'"
          ]
        }
      ]
    },
    {
      "cell_type": "code",
      "source": [
        "import re"
      ],
      "metadata": {
        "id": "wpDS-x0TYzHg"
      },
      "execution_count": null,
      "outputs": []
    },
    {
      "cell_type": "code",
      "source": [
        "# substring -> 슬라이싱\n",
        "\n",
        "# sub -> 대체 -> 한다\n",
        "\n",
        "j = '123,456'\n",
        "j = '123456'\n",
        "float(re.sub(',', '', j)) #sub(바꿔야하는거, 바꿀것, 데이터)"
      ],
      "metadata": {
        "colab": {
          "base_uri": "https://localhost:8080/"
        },
        "id": "VfilG74aYoxE",
        "outputId": "83abaa8f-da8f-4e56-8b20-820c911a508f"
      },
      "execution_count": null,
      "outputs": [
        {
          "output_type": "execute_result",
          "data": {
            "text/plain": [
              "123456.0"
            ]
          },
          "metadata": {},
          "execution_count": 12
        }
      ]
    },
    {
      "cell_type": "code",
      "source": [
        "int(re.sub(',', '', j))"
      ],
      "metadata": {
        "colab": {
          "base_uri": "https://localhost:8080/"
        },
        "id": "5lm7456LZXAP",
        "outputId": "bbe5d3ff-982e-407c-8cc0-0c17a338e2b5"
      },
      "execution_count": null,
      "outputs": [
        {
          "output_type": "execute_result",
          "data": {
            "text/plain": [
              "123456"
            ]
          },
          "metadata": {},
          "execution_count": 13
        }
      ]
    },
    {
      "cell_type": "code",
      "source": [
        "# 슬라이싱 \n",
        "total [:5]:"
      ],
      "metadata": {
        "id": "7ieU8jxSZmne"
      },
      "execution_count": null,
      "outputs": []
    },
    {
      "cell_type": "code",
      "source": [
        "# 인덱싱\n",
        "i = total[2]\n",
        "i"
      ],
      "metadata": {
        "colab": {
          "base_uri": "https://localhost:8080/"
        },
        "id": "LD7SwMgOZZGT",
        "outputId": "8d7b3cb8-5f81-4bf0-a769-afc7da5e014e"
      },
      "execution_count": null,
      "outputs": [
        {
          "output_type": "execute_result",
          "data": {
            "text/plain": [
              "['Jongrogu', '151,767', '11,093', '27,394']"
            ]
          },
          "metadata": {},
          "execution_count": 29
        }
      ]
    },
    {
      "cell_type": "code",
      "source": [
        "# 정규표현식 -> "
      ],
      "metadata": {
        "id": "cO68GvQyuPSX"
      },
      "execution_count": null,
      "outputs": []
    },
    {
      "cell_type": "code",
      "source": [
        "# 한번 작성해보세요~ \n",
        "# 리스트안에 숫자가 1개라도 있으면 ',' -> ''으로 변경\n",
        "k = []\n",
        "for j in i:\n",
        "  if re.search('\\d', j): #j에서 숫자를 1개라도 찾았다면 \n",
        "    k.append(int(re.sub(',' , '', j)))\n",
        "  else:\n",
        "    k.append(j)    "
      ],
      "metadata": {
        "id": "YVpOPan1n0E9"
      },
      "execution_count": null,
      "outputs": []
    },
    {
      "cell_type": "code",
      "source": [
        "k"
      ],
      "metadata": {
        "colab": {
          "base_uri": "https://localhost:8080/"
        },
        "id": "MhLL69icn8X0",
        "outputId": "456a5ea1-e8d7-44dc-a64f-d05117f8176b"
      },
      "execution_count": null,
      "outputs": [
        {
          "output_type": "execute_result",
          "data": {
            "text/plain": [
              "['Jongrogu', 151767, 11093, 27394]"
            ]
          },
          "metadata": {},
          "execution_count": 31
        }
      ]
    },
    {
      "cell_type": "code",
      "source": [
        "# 만약, 문자와 숫자가 섞여있다면?\n",
        "# 데이터가 밀리는 경우는 부지기수.\n",
        "\n",
        "p = ['123강남구', '456종로구', '11,093', '27,394']\n",
        "k = []\n",
        "for j in p:\n",
        "  if re.search('[a-z가-힣]', j): #j에서 소문자 알파벳 또는 한글 문자가 있다면\n",
        "    k.append(j)\n",
        "  else:\n",
        "    k.append(float(re.sub(',' , '', j))) "
      ],
      "metadata": {
        "id": "5Zqmx8n6ZppU"
      },
      "execution_count": null,
      "outputs": []
    },
    {
      "cell_type": "code",
      "source": [
        "# 만약, 문자와 숫자가 섞여있다면?\n",
        "# 데이터가 밀리는 경우는 부지기수.\n",
        "\n",
        "p = ['123강남구', '456종로구', '11,093', '27,394']\n",
        "k = []\n",
        "for j in p:\n",
        "  k.append(float(re.sub(',' , '', j))) "
      ],
      "metadata": {
        "colab": {
          "base_uri": "https://localhost:8080/",
          "height": 206
        },
        "id": "jNN_x11lvn1b",
        "outputId": "4e3629e8-2fd3-4b1b-ccfe-a0ad800bdf85"
      },
      "execution_count": null,
      "outputs": [
        {
          "output_type": "error",
          "ename": "ValueError",
          "evalue": "ignored",
          "traceback": [
            "\u001b[0;31m---------------------------------------------------------------------------\u001b[0m",
            "\u001b[0;31mValueError\u001b[0m                                Traceback (most recent call last)",
            "\u001b[0;32m<ipython-input-38-3c6289a91e67>\u001b[0m in \u001b[0;36m<cell line: 6>\u001b[0;34m()\u001b[0m\n\u001b[1;32m      5\u001b[0m \u001b[0mk\u001b[0m \u001b[0;34m=\u001b[0m \u001b[0;34m[\u001b[0m\u001b[0;34m]\u001b[0m\u001b[0;34m\u001b[0m\u001b[0;34m\u001b[0m\u001b[0m\n\u001b[1;32m      6\u001b[0m \u001b[0;32mfor\u001b[0m \u001b[0mj\u001b[0m \u001b[0;32min\u001b[0m \u001b[0mp\u001b[0m\u001b[0;34m:\u001b[0m\u001b[0;34m\u001b[0m\u001b[0;34m\u001b[0m\u001b[0m\n\u001b[0;32m----> 7\u001b[0;31m   \u001b[0mk\u001b[0m\u001b[0;34m.\u001b[0m\u001b[0mappend\u001b[0m\u001b[0;34m(\u001b[0m\u001b[0mfloat\u001b[0m\u001b[0;34m(\u001b[0m\u001b[0mre\u001b[0m\u001b[0;34m.\u001b[0m\u001b[0msub\u001b[0m\u001b[0;34m(\u001b[0m\u001b[0;34m','\u001b[0m \u001b[0;34m,\u001b[0m \u001b[0;34m''\u001b[0m\u001b[0;34m,\u001b[0m \u001b[0mj\u001b[0m\u001b[0;34m)\u001b[0m\u001b[0;34m)\u001b[0m\u001b[0;34m)\u001b[0m\u001b[0;34m\u001b[0m\u001b[0;34m\u001b[0m\u001b[0m\n\u001b[0m",
            "\u001b[0;31mValueError\u001b[0m: could not convert string to float: '123강남구'"
          ]
        }
      ]
    },
    {
      "cell_type": "code",
      "source": [
        "# 만약, 문자와 숫자가섞여있다면?\n",
        "# 데이터가 밀리는 경우는 부지기수..\n",
        "\n",
        "p = ['강남구', '종로구', '11,093', '27,394']\n",
        "k = []\n",
        "for j in p:\n",
        "  if re.search('[1-9]', j): #j에서 숫자가 있으면\n",
        "    k.append(float(re.sub(',' , '', j))) \n",
        "  else:\n",
        "    k.append(j) "
      ],
      "metadata": {
        "id": "NA8vJxvhoa8o"
      },
      "execution_count": null,
      "outputs": []
    },
    {
      "cell_type": "code",
      "source": [
        "k"
      ],
      "metadata": {
        "colab": {
          "base_uri": "https://localhost:8080/"
        },
        "id": "--uovcSHocLY",
        "outputId": "cf365cf4-0631-47d4-fb3a-3196aa830540"
      },
      "execution_count": null,
      "outputs": [
        {
          "output_type": "execute_result",
          "data": {
            "text/plain": [
              "['강남구', '종로구', 11093.0, 27394.0]"
            ]
          },
          "metadata": {},
          "execution_count": 40
        }
      ]
    },
    {
      "cell_type": "code",
      "source": [
        "# 만약 특수문자가 있다면??\n",
        "\n",
        "p = ['123강남구@@', '456종로구!!', '11,093', '27,394']\n",
        "k = []\n",
        "for j in p:\n",
        "  if re.search('[a-z가-힣!@]', j): \n",
        "    k.append(j)\n",
        "  else:\n",
        "    k.append(float(re.sub(',' , '', j))) "
      ],
      "metadata": {
        "id": "P1ez2gccv9H2"
      },
      "execution_count": null,
      "outputs": []
    },
    {
      "cell_type": "code",
      "source": [
        "# 예외처리\n",
        "# try - except try 실행해보고, 오류가 나면 except를 실행해라"
      ],
      "metadata": {
        "id": "FHPlWtYNwSch"
      },
      "execution_count": null,
      "outputs": []
    },
    {
      "cell_type": "code",
      "source": [
        "try:\n",
        "  p = ['123강남구@@', '456종로구!!', '11,093', '27,394']\n",
        "  k = []\n",
        "  for j in p:\n",
        "    if re.search('[a-z가-힣!@]', j): \n",
        "      k.append(j)\n",
        "    else:\n",
        "      k.append(float(re.sub(',' , '', j))) \n",
        "except:\n",
        "  pass"
      ],
      "metadata": {
        "id": "yaTM5jI4wSYi"
      },
      "execution_count": null,
      "outputs": []
    },
    {
      "cell_type": "code",
      "source": [
        "# 많은 데이터를 처리할 수 있는 함수 만들기\n",
        "\n",
        "def switch(listname):\n",
        "  for i in listname: #이중 리스트안에 있는 리스트 1개를 가져오고\n",
        "    #['Jongrogu', 151,767, 11,093, 27,394]\n",
        "    for j in i: #리스트에 있는 요소를 받아와서\n",
        "      try: # 여기 해당되는건 바꾸고 (, 문자형을 숫자형으로)\n",
        "        i[i.index(j)] = float(re.sub(',','',j))\n",
        "      except: # 해당되지 않으면 바꾸지 말아라(숫자가 없는 문자형은 넘어가라)\n",
        "        pass\n",
        "  return listname"
      ],
      "metadata": {
        "id": "6T1NZAjywdxE"
      },
      "execution_count": null,
      "outputs": []
    },
    {
      "cell_type": "code",
      "source": [
        "# 함수화 하기\n",
        "def opencsv(filename):\n",
        "  f = open(filename, 'r')\n",
        "  reader = csv.reader(f)\n",
        "  output = []\n",
        "  for i in reader:\n",
        "    output.append(i)\n",
        "  return output"
      ],
      "metadata": {
        "id": "4gI_lbW7yKKK"
      },
      "execution_count": null,
      "outputs": []
    },
    {
      "cell_type": "code",
      "source": [
        "import os\n",
        "import re\n",
        "import csv\n",
        "\n",
        "# 경로 불러오기 (재지정)\n",
        "os.chdir('/content/')\n",
        "# csv데이터 불러오기\n",
        "total = opencsv('seoul.csv')\n"
      ],
      "metadata": {
        "id": "pd4p58ZTxikB"
      },
      "execution_count": null,
      "outputs": []
    },
    {
      "cell_type": "code",
      "source": [
        "total"
      ],
      "metadata": {
        "colab": {
          "base_uri": "https://localhost:8080/"
        },
        "id": "EE-HnR3wykcR",
        "outputId": "5246c36c-ec3b-4236-9f3c-63312cf99273"
      },
      "execution_count": null,
      "outputs": [
        {
          "output_type": "execute_result",
          "data": {
            "text/plain": [
              "[['Gu', 'Korean', 'Foreigner', 'Senior'],\n",
              " ['Total', '9,740,398', '285,529', '1,468,146'],\n",
              " ['Jongrogu', '151,767', '11,093', '27,394'],\n",
              " ['Jongru', '126,409', '10,254', '23,025'],\n",
              " ['Yongsangu', '228,830', '16,159', '38,531'],\n",
              " ['Seongdonggu', '303,158', '8,132', '43,662'],\n",
              " ['Kwangjingu', '352,692', '15,645', '47,347'],\n",
              " ['Dongdaemoongu', '346,551', '17,228', '58,764'],\n",
              " ['Jungranggu', '398,812', '4,964', '64,449'],\n",
              " ['Seongbukgu', '441,590', '12,524', '70,204'],\n",
              " ['Gangbukgu', '314,090', '3,785', '59,808'],\n",
              " ['Dobonggu', '335,280', '2,314', '58,070'],\n",
              " ['Nowonggu', '535,282', '4,547', '79,968'],\n",
              " ['Eunpyonggu', '481,663', '4,496', '79,957'],\n",
              " ['Seodaemungu', '310,069', '14,020', '51,708'],\n",
              " ['Mapogu', '373,629', '11,976', '51,961'],\n",
              " ['Yangcheongu', '459,849', '4,082', '60,487'],\n",
              " ['Gangseogu', '593,708', '6,532', '82,937'],\n",
              " ['Gurogu', '406,748', '33,102', '64,952'],\n",
              " ['Guemcheongu', '233,371', '19,497', '37,191'],\n",
              " ['Youngdeungpogu', '368,402', '34,076', '57,350'],\n",
              " ['Dongjakgu', '397,618', '12,869', '61,607'],\n",
              " ['Kwanakgu', '502,117', '17,836', '74,518'],\n",
              " ['Seoucheogu', '431,027', '4,231', '56,455'],\n",
              " ['Gangnamgu', '544,028', '5,015', '70,029'],\n",
              " ['Songpagu', '677,489', '6,849', '86,062'],\n",
              " ['Gangdonggu', '426,219', '4,303', '61,710']]"
            ]
          },
          "metadata": {},
          "execution_count": 44
        }
      ]
    },
    {
      "cell_type": "code",
      "source": [
        "sample = switch(total)"
      ],
      "metadata": {
        "id": "9y3lmJgfyjZm"
      },
      "execution_count": null,
      "outputs": []
    },
    {
      "cell_type": "code",
      "source": [
        "sample "
      ],
      "metadata": {
        "colab": {
          "base_uri": "https://localhost:8080/"
        },
        "id": "A_Mb9YKvyqyc",
        "outputId": "2944bb90-a6a2-458a-9f6b-73abb15c8574"
      },
      "execution_count": null,
      "outputs": [
        {
          "output_type": "execute_result",
          "data": {
            "text/plain": [
              "[['Gu', 'Korean', 'Foreigner', 'Senior'],\n",
              " ['Total', 9740398.0, 285529.0, 1468146.0],\n",
              " ['Jongrogu', 151767.0, 11093.0, 27394.0],\n",
              " ['Jongru', 126409.0, 10254.0, 23025.0],\n",
              " ['Yongsangu', 228830.0, 16159.0, 38531.0],\n",
              " ['Seongdonggu', 303158.0, 8132.0, 43662.0],\n",
              " ['Kwangjingu', 352692.0, 15645.0, 47347.0],\n",
              " ['Dongdaemoongu', 346551.0, 17228.0, 58764.0],\n",
              " ['Jungranggu', 398812.0, 4964.0, 64449.0],\n",
              " ['Seongbukgu', 441590.0, 12524.0, 70204.0],\n",
              " ['Gangbukgu', 314090.0, 3785.0, 59808.0],\n",
              " ['Dobonggu', 335280.0, 2314.0, 58070.0],\n",
              " ['Nowonggu', 535282.0, 4547.0, 79968.0],\n",
              " ['Eunpyonggu', 481663.0, 4496.0, 79957.0],\n",
              " ['Seodaemungu', 310069.0, 14020.0, 51708.0],\n",
              " ['Mapogu', 373629.0, 11976.0, 51961.0],\n",
              " ['Yangcheongu', 459849.0, 4082.0, 60487.0],\n",
              " ['Gangseogu', 593708.0, 6532.0, 82937.0],\n",
              " ['Gurogu', 406748.0, 33102.0, 64952.0],\n",
              " ['Guemcheongu', 233371.0, 19497.0, 37191.0],\n",
              " ['Youngdeungpogu', 368402.0, 34076.0, 57350.0],\n",
              " ['Dongjakgu', 397618.0, 12869.0, 61607.0],\n",
              " ['Kwanakgu', 502117.0, 17836.0, 74518.0],\n",
              " ['Seoucheogu', 431027.0, 4231.0, 56455.0],\n",
              " ['Gangnamgu', 544028.0, 5015.0, 70029.0],\n",
              " ['Songpagu', 677489.0, 6849.0, 86062.0],\n",
              " ['Gangdonggu', 426219.0, 4303.0, 61710.0]]"
            ]
          },
          "metadata": {},
          "execution_count": 48
        }
      ]
    },
    {
      "cell_type": "code",
      "source": [
        "print(sample[:4])"
      ],
      "metadata": {
        "colab": {
          "base_uri": "https://localhost:8080/"
        },
        "id": "8FpOrseLzFjW",
        "outputId": "05c1d714-7628-40f0-93fe-0ab3d7300c29"
      },
      "execution_count": null,
      "outputs": [
        {
          "output_type": "stream",
          "name": "stdout",
          "text": [
            "[['Gu', 'Korean', 'Foreigner', 'Senior'], ['Total', 9740398.0, 285529.0, 1468146.0], ['Jongrogu', 151767.0, 11093.0, 27394.0], ['Jongru', 126409.0, 10254.0, 23025.0]]\n"
          ]
        }
      ]
    },
    {
      "cell_type": "code",
      "source": [
        "# 첫번째 행(제목 지정하기)\n",
        "\n",
        "title = [['구', '한국인', '외국인', '외국인 비율(%)']]"
      ],
      "metadata": {
        "id": "URB85Xn3zbXe"
      },
      "execution_count": null,
      "outputs": []
    },
    {
      "cell_type": "code",
      "source": [
        "i = ['Jongrogu', '151,767', '11,093', '27,394']"
      ],
      "metadata": {
        "colab": {
          "base_uri": "https://localhost:8080/"
        },
        "id": "0cFQw9SMz22o",
        "outputId": "979709e8-5da8-4cd4-d393-ddbd7c37d447"
      },
      "execution_count": null,
      "outputs": [
        {
          "output_type": "execute_result",
          "data": {
            "text/plain": [
              "['Jongrogu', '151,767', '11,093', '27,394']"
            ]
          },
          "metadata": {},
          "execution_count": 54
        }
      ]
    },
    {
      "cell_type": "code",
      "source": [
        "title.append([i[0], i[1], i[2], i[3]])"
      ],
      "metadata": {
        "id": "Bfy5AIvJzpXE"
      },
      "execution_count": null,
      "outputs": []
    },
    {
      "cell_type": "code",
      "source": [
        "title"
      ],
      "metadata": {
        "colab": {
          "base_uri": "https://localhost:8080/"
        },
        "id": "5WZyxORyzxWy",
        "outputId": "d9bdea9c-ac20-487b-abbb-8908e1a64638"
      },
      "execution_count": null,
      "outputs": [
        {
          "output_type": "execute_result",
          "data": {
            "text/plain": [
              "[['구', '한국인', '외국인', '외국인 비율(%)'], ['Jongrogu', '151,767', '11,093', '27,394']]"
            ]
          },
          "metadata": {},
          "execution_count": 53
        }
      ]
    },
    {
      "cell_type": "code",
      "source": [
        "# 반복작업 각 구의 외국인 비율 구하기\n",
        "# 외국인 숫자 / 한국인 숫자 = 외국인 비율\n",
        "# 100/1000 -> 0.1 * -> 10% \n",
        "\n",
        "for i in sample:\n",
        "  foreign = 0\n",
        "  try:\n",
        "    foreign = round(i[2] / i[1] * 100, 1)\n",
        "    print(i[0], foreign)\n",
        "  except:\n",
        "    pass\n",
        "\n"
      ],
      "metadata": {
        "colab": {
          "base_uri": "https://localhost:8080/"
        },
        "id": "TDrqsoRVzyxV",
        "outputId": "4612c819-d46a-4494-9845-6e917ebf2282"
      },
      "execution_count": null,
      "outputs": [
        {
          "output_type": "stream",
          "name": "stdout",
          "text": [
            "Total 2.9\n",
            "Jongrogu 7.3\n",
            "Jongru 8.1\n",
            "Yongsangu 7.1\n",
            "Seongdonggu 2.7\n",
            "Kwangjingu 4.4\n",
            "Dongdaemoongu 5.0\n",
            "Jungranggu 1.2\n",
            "Seongbukgu 2.8\n",
            "Gangbukgu 1.2\n",
            "Dobonggu 0.7\n",
            "Nowonggu 0.8\n",
            "Eunpyonggu 0.9\n",
            "Seodaemungu 4.5\n",
            "Mapogu 3.2\n",
            "Yangcheongu 0.9\n",
            "Gangseogu 1.1\n",
            "Gurogu 8.1\n",
            "Guemcheongu 8.4\n",
            "Youngdeungpogu 9.2\n",
            "Dongjakgu 3.2\n",
            "Kwanakgu 3.6\n",
            "Seoucheogu 1.0\n",
            "Gangnamgu 0.9\n",
            "Songpagu 1.0\n",
            "Gangdonggu 1.0\n"
          ]
        }
      ]
    },
    {
      "cell_type": "code",
      "source": [
        "# 외국인 비율 3% 이상인 대상만 추출\n",
        "\n",
        "for i in sample:\n",
        "  foreign = 0\n",
        "  try:\n",
        "    foreign = round(i[2] / i[1] * 100, 1)\n",
        "    if foreign > 3:\n",
        "      print(i[0], foreign)\n",
        "  except:\n",
        "    pass"
      ],
      "metadata": {
        "colab": {
          "base_uri": "https://localhost:8080/"
        },
        "id": "G6WzaWxs0rY1",
        "outputId": "261ed602-2711-4583-a9fa-c8802275b612"
      },
      "execution_count": null,
      "outputs": [
        {
          "output_type": "stream",
          "name": "stdout",
          "text": [
            "Jongrogu 7.3\n",
            "Jongru 8.1\n",
            "Yongsangu 7.1\n",
            "Kwangjingu 4.4\n",
            "Dongdaemoongu 5.0\n",
            "Seodaemungu 4.5\n",
            "Mapogu 3.2\n",
            "Gurogu 8.1\n",
            "Guemcheongu 8.4\n",
            "Youngdeungpogu 9.2\n",
            "Dongjakgu 3.2\n",
            "Kwanakgu 3.6\n"
          ]
        }
      ]
    },
    {
      "cell_type": "code",
      "source": [
        "# 새로운 CSV 파일 생성 외국인 비율 3% 이상인 것만\n",
        "new_file = [['행정구역', '한국인', '외국인' , '외국인 비율(%)']]\n",
        "\n",
        "for i in sample:\n",
        "  foreign = 0\n",
        "  try:\n",
        "    foreign = round(i[2] / i[1] * 100, 1)\n",
        "    if foreign > 3:\n",
        "      new_file.append([i[0], i[1], i[2], foreign])\n",
        "  except:\n",
        "    pass"
      ],
      "metadata": {
        "id": "yU2K0sH35P_3"
      },
      "execution_count": null,
      "outputs": []
    },
    {
      "cell_type": "code",
      "source": [
        "new_file"
      ],
      "metadata": {
        "colab": {
          "base_uri": "https://localhost:8080/"
        },
        "id": "8gJ1yJj151eP",
        "outputId": "e62675cf-cc1b-4692-fcd1-58ffbf6324b9"
      },
      "execution_count": null,
      "outputs": [
        {
          "output_type": "execute_result",
          "data": {
            "text/plain": [
              "[['행정구역', '한국인', '외국인', '외국인 비율(%)'],\n",
              " ['Jongrogu', 151767.0, 11093.0, 7.3],\n",
              " ['Jongru', 126409.0, 10254.0, 8.1],\n",
              " ['Yongsangu', 228830.0, 16159.0, 7.1],\n",
              " ['Kwangjingu', 352692.0, 15645.0, 4.4],\n",
              " ['Dongdaemoongu', 346551.0, 17228.0, 5.0],\n",
              " ['Seodaemungu', 310069.0, 14020.0, 4.5],\n",
              " ['Mapogu', 373629.0, 11976.0, 3.2],\n",
              " ['Gurogu', 406748.0, 33102.0, 8.1],\n",
              " ['Guemcheongu', 233371.0, 19497.0, 8.4],\n",
              " ['Youngdeungpogu', 368402.0, 34076.0, 9.2],\n",
              " ['Dongjakgu', 397618.0, 12869.0, 3.2],\n",
              " ['Kwanakgu', 502117.0, 17836.0, 3.6]]"
            ]
          },
          "metadata": {},
          "execution_count": 61
        }
      ]
    },
    {
      "cell_type": "code",
      "source": [
        "# 함수화 하기\n",
        "# csv를 넣지 않아도 생성은 된다.\n",
        "\n",
        "def writecsv(filename, the_list):\n",
        "  with open(filename, 'w', newline = '') as f:\n",
        "    a = csv.writer(f, delimiter = ',')\n",
        "    a.writerows(the_list)"
      ],
      "metadata": {
        "id": "4ElSlDgy6E5n"
      },
      "execution_count": null,
      "outputs": []
    },
    {
      "cell_type": "code",
      "source": [
        "writecsv('seoul_new.csv', new_file)"
      ],
      "metadata": {
        "id": "M6bfYvHH52Pa"
      },
      "execution_count": null,
      "outputs": []
    },
    {
      "cell_type": "code",
      "source": [],
      "metadata": {
        "id": "rNsnqqYE65Tm"
      },
      "execution_count": null,
      "outputs": []
    },
    {
      "cell_type": "code",
      "source": [
        "# 부동산 \n",
        "\n",
        "import os\n",
        "import re\n",
        "\n",
        "apt = switch(opencsv('data_school_utf8.csv'))"
      ],
      "metadata": {
        "id": "WXeGpjV0596c"
      },
      "execution_count": null,
      "outputs": []
    },
    {
      "cell_type": "code",
      "source": [
        "# csv -> head()\n",
        "apt[:3]"
      ],
      "metadata": {
        "colab": {
          "base_uri": "https://localhost:8080/"
        },
        "id": "l0mrG_1Z7qr7",
        "outputId": "125b84e5-5d09-49ae-fff2-60398e0ced54"
      },
      "execution_count": null,
      "outputs": [
        {
          "output_type": "execute_result",
          "data": {
            "text/plain": [
              "[['\\ufeff\\ufeff시군구',\n",
              "  '번지',\n",
              "  '본번',\n",
              "  '부번',\n",
              "  '단지명',\n",
              "  '전용면적(㎡)',\n",
              "  '계약년월',\n",
              "  '계약일',\n",
              "  '거래금액(만원)',\n",
              "  '층',\n",
              "  '건축년도',\n",
              "  '도로명',\n",
              "  '해제사유발생일',\n",
              "  '거래유형',\n",
              "  '중개사소재지'],\n",
              " ['강원도 강릉시 견소동',\n",
              "  202.0,\n",
              "  202.0,\n",
              "  0.0,\n",
              "  '송정한신',\n",
              "  59.8,\n",
              "  202304.0,\n",
              "  3.0,\n",
              "  19000.0,\n",
              "  14.0,\n",
              "  1997.0,\n",
              "  '경강로2539번길 8',\n",
              "  '',\n",
              "  '중개거래',\n",
              "  '강원 강릉시'],\n",
              " ['강원도 강릉시 견소동',\n",
              "  202.0,\n",
              "  202.0,\n",
              "  0.0,\n",
              "  '송정한신',\n",
              "  84.93,\n",
              "  202304.0,\n",
              "  11.0,\n",
              "  25500.0,\n",
              "  6.0,\n",
              "  1997.0,\n",
              "  '경강로2539번길 8',\n",
              "  '',\n",
              "  '중개거래',\n",
              "  '강원 강릉시']]"
            ]
          },
          "metadata": {},
          "execution_count": 68
        }
      ]
    },
    {
      "cell_type": "code",
      "source": [
        "apt[0]"
      ],
      "metadata": {
        "colab": {
          "base_uri": "https://localhost:8080/"
        },
        "id": "AD9Svqut8PcZ",
        "outputId": "abeb5162-a19d-4abe-ca37-eef840878467"
      },
      "execution_count": null,
      "outputs": [
        {
          "output_type": "execute_result",
          "data": {
            "text/plain": [
              "['\\ufeff\\ufeff시군구',\n",
              " '번지',\n",
              " '본번',\n",
              " '부번',\n",
              " '단지명',\n",
              " '전용면적(㎡)',\n",
              " '계약년월',\n",
              " '계약일',\n",
              " '거래금액(만원)',\n",
              " '층',\n",
              " '건축년도',\n",
              " '도로명',\n",
              " '해제사유발생일',\n",
              " '거래유형',\n",
              " '중개사소재지']"
            ]
          },
          "metadata": {},
          "execution_count": 69
        }
      ]
    },
    {
      "cell_type": "code",
      "source": [
        "# 처음 5개 데이터의 시/군/구만 출력\n",
        "\n",
        "for i in apt[:6]: #0-5\n",
        "  print(i[0])"
      ],
      "metadata": {
        "colab": {
          "base_uri": "https://localhost:8080/"
        },
        "id": "r2DCbUvx8idu",
        "outputId": "b2352ce0-9ad3-4bdb-8a63-855f1ea9a548"
      },
      "execution_count": null,
      "outputs": [
        {
          "output_type": "stream",
          "name": "stdout",
          "text": [
            "﻿﻿시군구\n",
            "강원도 강릉시 견소동\n",
            "강원도 강릉시 견소동\n",
            "강원도 강릉시 견소동\n",
            "강원도 강릉시 견소동\n",
            "강원도 강릉시 교동\n"
          ]
        }
      ]
    },
    {
      "cell_type": "code",
      "source": [
        "# 처음 5개 데이터의 거래가격(만원) 출력\n",
        "for i in apt[:6]:\n",
        "  print(i[0], i[4], i[5], i[8])"
      ],
      "metadata": {
        "colab": {
          "base_uri": "https://localhost:8080/"
        },
        "id": "KvsOg7FN8tdU",
        "outputId": "3e1db848-cea8-496e-dada-9eba525f1efc"
      },
      "execution_count": null,
      "outputs": [
        {
          "output_type": "stream",
          "name": "stdout",
          "text": [
            "﻿﻿시군구 전용면적(㎡) 거래금액(만원)\n",
            "강원도 강릉시 견소동 59.8 19000.0\n",
            "강원도 강릉시 견소동 84.93 25500.0\n",
            "강원도 강릉시 견소동 84.93 26400.0\n",
            "강원도 강릉시 견소동 59.8 19500.0\n",
            "강원도 강릉시 교동 84.9964 36300.0\n"
          ]
        }
      ]
    },
    {
      "cell_type": "code",
      "source": [
        "# 강원도에 120M2 이상 3억원 이하 아파트 검색하기\n",
        "# 대가족이 사는 곳 \n",
        "\n",
        "for i in apt:\n",
        "  try:\n",
        "    if i[5] > 84 and i[8] <= 60000 and re.match('서울', i[0]):\n",
        "      print(i[0], i[4], i[5], i[8])\n",
        "  except:\n",
        "    pass"
      ],
      "metadata": {
        "colab": {
          "base_uri": "https://localhost:8080/"
        },
        "id": "X6P_ANYu9H6f",
        "outputId": "372f09a0-a779-4600-930f-27a7ae97f664"
      },
      "execution_count": null,
      "outputs": [
        {
          "output_type": "stream",
          "name": "stdout",
          "text": [
            "서울특별시 강동구 천호동 즈믄촌 84.4 45000.0\n",
            "서울특별시 강북구 미아동 두산위브트레지움 84.99 51100.0\n",
            "서울특별시 강북구 미아동 에스케이북한산시티 84.92 58000.0\n",
            "서울특별시 강북구 번동 번동한양아파트 84.67 51500.0\n",
            "서울특별시 강서구 내발산동 원다벨라빌 84.0152 46000.0\n",
            "서울특별시 강서구 화곡동 궁전(912-1)B동 97.65 49000.0\n",
            "서울특별시 강서구 화곡동 천우중앙 87.18 35000.0\n",
            "서울특별시 구로구 개봉동 거성푸르뫼2 84.96 51000.0\n",
            "서울특별시 구로구 개봉동 한진 84.96 57000.0\n",
            "서울특별시 구로구 개봉동 한진 84.96 57000.0\n",
            "서울특별시 구로구 구로동 뉴홍현솔레디움 84.69 59900.0\n",
            "서울특별시 구로구 구로동 도림두산베어스타워 109.25 53000.0\n",
            "서울특별시 금천구 독산동 금천현대 84.83 55000.0\n",
            "서울특별시 금천구 독산동 라이프 84.74 54000.0\n",
            "서울특별시 금천구 시흥동 관악산벽산타운5 84.97 50800.0\n",
            "서울특별시 금천구 시흥동 관악산벽산타운5 84.97 52000.0\n",
            "서울특별시 금천구 시흥동 벽산 84.99 50000.0\n",
            "서울특별시 금천구 시흥동 벽산 114.84 55400.0\n",
            "서울특별시 금천구 시흥동 벽산 114.84 56500.0\n",
            "서울특별시 노원구 공릉동 건영장미아파트 84.88 58000.0\n",
            "서울특별시 노원구 공릉동 삼익아파트 84.6 58800.0\n",
            "서울특별시 노원구 상계동 동아불암 84.86 60000.0\n",
            "서울특별시 노원구 상계동 상계신동아 84.99 59000.0\n",
            "서울특별시 노원구 월계동 한진한화그랑빌 84.97 54000.0\n",
            "서울특별시 도봉구 도봉동 극동 84.83 50000.0\n",
            "서울특별시 도봉구 도봉동 극동 84.83 38000.0\n",
            "서울특별시 도봉구 도봉동 럭키 84.86 53000.0\n",
            "서울특별시 도봉구 도봉동 한신 84.94 54000.0\n",
            "서울특별시 도봉구 도봉동 한신 84.94 50000.0\n",
            "서울특별시 도봉구 도봉동 한신 84.94 53000.0\n",
            "서울특별시 도봉구 도봉동 한신 84.94 54000.0\n",
            "서울특별시 도봉구 방학동 우성아파트2 84.98 49800.0\n",
            "서울특별시 도봉구 쌍문동 동익미라벨 84.53 46500.0\n",
            "서울특별시 도봉구 쌍문동 현대1 84.66 49700.0\n",
            "서울특별시 도봉구 쌍문동 현대3 84.83 43000.0\n",
            "서울특별시 도봉구 창동 금용 158.79 55000.0\n",
            "서울특별시 동대문구 장안동 르메이에르장안타운6차 84.92 59000.0\n",
            "서울특별시 동대문구 휘경동 서울가든 85.6 50000.0\n",
            "서울특별시 동작구 사당동 현대주택조합 84.99 56000.0\n",
            "서울특별시 성북구 삼선동3가 성종그린 84.99 48000.0\n",
            "서울특별시 성북구 석관동 삼성 84.72 52200.0\n",
            "서울특별시 성북구 장위동 그린빌아파트 84.69 55000.0\n",
            "서울특별시 성북구 정릉동 정릉풍림아이원 84.09 60000.0\n",
            "서울특별시 성북구 정릉동 정릉풍림아이원 84.09 59400.0\n",
            "서울특별시 성북구 정릉동 정릉힐스테이트1차 84.535 59000.0\n",
            "서울특별시 양천구 목동 근상프리즘 92.34 59000.0\n",
            "서울특별시 양천구 신월동 삼성 84.78 45500.0\n",
            "서울특별시 양천구 신월동 우영아파트 84.93 44500.0\n",
            "서울특별시 양천구 신정동 마이홈 114.99 50000.0\n",
            "서울특별시 은평구 갈현동 한솔 84.93 49500.0\n",
            "서울특별시 은평구 구산동 경남아너스빌 84.69 53000.0\n",
            "서울특별시 은평구 불광동 태양아파트 84.77 56000.0\n",
            "서울특별시 은평구 신사동 뉴신사신성 84.42 48000.0\n",
            "서울특별시 은평구 신사동 대주파크빌 84.8 57000.0\n",
            "서울특별시 은평구 신사동 현대1 84.17 55500.0\n",
            "서울특별시 중구 인현동2가 인현상가(신성아파트) 87.44 56500.0\n",
            "서울특별시 중랑구 묵동 신안1 84.99 60000.0\n"
          ]
        }
      ]
    },
    {
      "cell_type": "code",
      "source": [
        "# 임장가기 위해서 프린트 \n",
        "# CSV파일로 내보내기 \n",
        "\n",
        "new_apt_list = []\n",
        "\n",
        "for i in apt:\n",
        "  try:\n",
        "    if i[5] > 84 and i[8] <= 60000 and re.match('서울', i[0]):\n",
        "      new_apt_list.append([i[0], i[4], i[5], i[8]])\n",
        "  except:\n",
        "    pass"
      ],
      "metadata": {
        "id": "jYcZY4wp9AwE"
      },
      "execution_count": null,
      "outputs": []
    },
    {
      "cell_type": "code",
      "source": [
        "writecsv('new_apt_list.csv', new_apt_list)"
      ],
      "metadata": {
        "id": "20DOIRaa_OGo"
      },
      "execution_count": null,
      "outputs": []
    },
    {
      "cell_type": "code",
      "source": [],
      "metadata": {
        "id": "ZEKgCEOx_jjp"
      },
      "execution_count": null,
      "outputs": []
    },
    {
      "cell_type": "code",
      "source": [
        "# 평균 기온 데이터 csv 데이터 실습\n",
        "\n",
        "import csv\n",
        "f = open('CSV_example2_data.csv')\n",
        "\n",
        "data = csv.reader(f, delimiter = ',')\n",
        "\n",
        "for row in data:\n",
        "  print(row)\n",
        "f.close()"
      ],
      "metadata": {
        "colab": {
          "base_uri": "https://localhost:8080/"
        },
        "id": "a5GUBwdWGPI4",
        "outputId": "712b93c6-f24d-45b2-c9d5-577591521d5e"
      },
      "execution_count": null,
      "outputs": [
        {
          "output_type": "stream",
          "name": "stdout",
          "text": [
            "['날짜', '지점', '평균기온', '최저기온', '최고기온']\n",
            "['2023-04-08', '108', '8.8', '3.1', '14.9']\n",
            "['2023-04-09', '108', '10.8', '3.5', '17.8']\n",
            "['2023-04-10', '108', '13.2', '6.2', '19.1']\n",
            "['2023-04-11', '108', '13.1', '9.2', '17.4']\n",
            "['2023-04-12', '108', '10.1', '4.8', '15.3']\n",
            "['2023-04-13', '108', '11.9', '5.1', '17.2']\n",
            "['2023-04-14', '108', '16.2', '11.9', '21.3']\n",
            "['2023-04-15', '108', '13.5', '9.3', '16.6']\n",
            "['2023-04-16', '108', '10.8', '7.5', '16.1']\n",
            "['2023-04-17', '108', '13.1', '6.8', '18.1']\n",
            "['2023-04-18', '108', '14', '10.7', '18.4']\n",
            "['2023-04-19', '108', '19.1', '11.5', '28.4']\n",
            "['2023-04-20', '108', '15.8', '14.5', '18.9']\n",
            "['2023-04-21', '108', '16.7', '11.4', '22.8']\n",
            "['2023-04-22', '108', '16.9', '12.2', '22.5']\n",
            "['2023-04-23', '108', '16.1', '10.7', '22.1']\n",
            "['2023-04-24', '108', '15.8', '11.5', '21.3']\n",
            "['2023-04-25', '108', '10.9', '9', '13.2']\n",
            "['2023-04-26', '108', '10.2', '7.4', '13.5']\n",
            "['2023-04-27', '108', '12.9', '5.1', '20']\n",
            "['2023-04-28', '108', '15.7', '9', '21.3']\n",
            "['2023-04-29', '108', '13.2', '9.9', '15.8']\n",
            "['2023-04-30', '108', '12.7', '7.9', '17.9']\n",
            "['2023-05-01', '108', '14.6', '9.8', '20.8']\n",
            "['2023-05-02', '108', '16.7', '9.1', '23.7']\n",
            "['2023-05-03', '108', '19.5', '12.4', '26.2']\n",
            "['2023-05-04', '108', '21.4', '15.6', '25.8']\n",
            "['2023-05-05', '108', '18.4', '15.5', '21.6']\n",
            "['2023-05-06', '108', '12.6', '11.7', '15.5']\n",
            "['2023-05-07', '108', '14.4', '11.1', '18.6']\n"
          ]
        }
      ]
    },
    {
      "cell_type": "code",
      "source": [
        "######## 추가 데이터\n",
        "\n",
        "# 예제파일 1개 더 Import\n",
        "\n",
        "test_dataset = open(\"/content/example_4_each.csv\")\n",
        "\n",
        "# 년도 리스트\n",
        "years = []\n",
        "# 인구수 리스트\n",
        "populations = []\n",
        "\n",
        "for line in test_dataset: \n",
        "  (year, population) = line.split(',')\n",
        "  if year != \"구분\":   \n",
        "    years.append(int(year))\n",
        "    populations.append(int(population))\n",
        "\n",
        "test_dataset.close() "
      ],
      "metadata": {
        "id": "4ex01YDSGoFo"
      },
      "execution_count": null,
      "outputs": []
    },
    {
      "cell_type": "code",
      "source": [
        "print(years)\n",
        "print(populations)"
      ],
      "metadata": {
        "colab": {
          "base_uri": "https://localhost:8080/"
        },
        "id": "B-lFLHoEHSdD",
        "outputId": "fcccd5be-fc74-4bd9-9a92-2cc305ba58da"
      },
      "execution_count": null,
      "outputs": [
        {
          "output_type": "stream",
          "name": "stdout",
          "text": [
            "[1949, 1955, 1960, 1966, 1970, 1975, 1980, 1985, 1990, 1995, 2000, 2005, 2010, 2015, 2020]\n",
            "[1437670, 1568746, 2445402, 3793280, 5525262, 6879262, 8335616, 9625755, 10603250, 10217177, 9853972, 9762546, 9631482, 9643432, 9540443]\n"
          ]
        }
      ]
    },
    {
      "cell_type": "code",
      "source": [
        "# 1. 해더의 정보를 빼고 출력\n",
        "\n",
        "# next() 첫번째 데이터 행을 읽어오면서 데이터의 탐색위치를 다음행으로 이동시키는 명령어\n",
        "import csv\n",
        "f = open('CSV_example2_data.csv')\n",
        "data = csv.reader(f)\n",
        "\n",
        "header = next(data)"
      ],
      "metadata": {
        "id": "2X6WYVK0HbIc"
      },
      "execution_count": null,
      "outputs": []
    },
    {
      "cell_type": "code",
      "source": [
        "for row in data:\n",
        "  print(row)\n",
        "f.close()"
      ],
      "metadata": {
        "colab": {
          "base_uri": "https://localhost:8080/"
        },
        "id": "KaFc_WgRIV7C",
        "outputId": "bad28843-483c-49ce-b4d4-5e20eee247f8"
      },
      "execution_count": null,
      "outputs": [
        {
          "output_type": "stream",
          "name": "stdout",
          "text": [
            "['2023-04-08', '108', '8.8', '3.1', '14.9']\n",
            "['2023-04-09', '108', '10.8', '3.5', '17.8']\n",
            "['2023-04-10', '108', '13.2', '6.2', '19.1']\n",
            "['2023-04-11', '108', '13.1', '9.2', '17.4']\n",
            "['2023-04-12', '108', '10.1', '4.8', '15.3']\n",
            "['2023-04-13', '108', '11.9', '5.1', '17.2']\n",
            "['2023-04-14', '108', '16.2', '11.9', '21.3']\n",
            "['2023-04-15', '108', '13.5', '9.3', '16.6']\n",
            "['2023-04-16', '108', '10.8', '7.5', '16.1']\n",
            "['2023-04-17', '108', '13.1', '6.8', '18.1']\n",
            "['2023-04-18', '108', '14', '10.7', '18.4']\n",
            "['2023-04-19', '108', '19.1', '11.5', '28.4']\n",
            "['2023-04-20', '108', '15.8', '14.5', '18.9']\n",
            "['2023-04-21', '108', '16.7', '11.4', '22.8']\n",
            "['2023-04-22', '108', '16.9', '12.2', '22.5']\n",
            "['2023-04-23', '108', '16.1', '10.7', '22.1']\n",
            "['2023-04-24', '108', '15.8', '11.5', '21.3']\n",
            "['2023-04-25', '108', '10.9', '9', '13.2']\n",
            "['2023-04-26', '108', '10.2', '7.4', '13.5']\n",
            "['2023-04-27', '108', '12.9', '5.1', '20']\n",
            "['2023-04-28', '108', '15.7', '9', '21.3']\n",
            "['2023-04-29', '108', '13.2', '9.9', '15.8']\n",
            "['2023-04-30', '108', '12.7', '7.9', '17.9']\n",
            "['2023-05-01', '108', '14.6', '9.8', '20.8']\n",
            "['2023-05-02', '108', '16.7', '9.1', '23.7']\n",
            "['2023-05-03', '108', '19.5', '12.4', '26.2']\n",
            "['2023-05-04', '108', '21.4', '15.6', '25.8']\n",
            "['2023-05-05', '108', '18.4', '15.5', '21.6']\n",
            "['2023-05-06', '108', '12.6', '11.7', '15.5']\n",
            "['2023-05-07', '108', '14.4', '11.1', '18.6']\n"
          ]
        }
      ]
    },
    {
      "cell_type": "code",
      "source": [
        "header = next(data)"
      ],
      "metadata": {
        "id": "86Q4dWLvI1ME"
      },
      "execution_count": null,
      "outputs": []
    },
    {
      "cell_type": "code",
      "source": [
        "# 가장 더웠던 날을 출력해보자!!\n",
        "import csv\n",
        "f = open('CSV_example2_data.csv')\n",
        "data = csv.reader(f)\n",
        "\n",
        "max_temp = 0\n",
        "\n",
        "header = next(data)\n",
        "for row in data:\n",
        "  row[4] = float(row[4]) # 문자형 데이터를 숫자형으로 바꾸고\n",
        "  \n",
        "  if max_temp < row[4]: #만약 지금까지 최고 기온값보다 현재 값의 최고기온 값이 더 크다면\n",
        "    max_temp = row[4] #최고기온\n",
        "    max_data = row[0] #최고기온날짜\n",
        "f.close()"
      ],
      "metadata": {
        "id": "D-XFvPg1IIwF"
      },
      "execution_count": null,
      "outputs": []
    },
    {
      "cell_type": "code",
      "source": [
        "print(max_temp, max_data)"
      ],
      "metadata": {
        "colab": {
          "base_uri": "https://localhost:8080/"
        },
        "id": "34bx5wV8IT3I",
        "outputId": "5c2612ef-e2af-4c7a-a26f-5578b70c25e2"
      },
      "execution_count": null,
      "outputs": [
        {
          "output_type": "stream",
          "name": "stdout",
          "text": [
            "28.4 2023-04-19\n"
          ]
        }
      ]
    },
    {
      "cell_type": "code",
      "source": [
        "# 가장 추웠던 날은?\n",
        "\n",
        "# 가장 더웠던 날을 출력해보자!!\n",
        "import csv\n",
        "f = open('CSV_example2_data.csv')\n",
        "data = csv.reader(f)\n",
        "\n",
        "min_temp = 99\n",
        "\n",
        "header = next(data)\n",
        "for row in data:\n",
        "  row[4] = float(row[4]) # 문자형 데이터를 숫자형으로 바꾸고\n",
        "  \n",
        "  if min_temp > row[4]: #만약 지금까지 최고 기온값보다 현재 값의 최고기온 값이 더 크다면\n",
        "    min_temp = row[4] #최고기온\n",
        "    min_data = row[0] #최고기온날짜\n",
        "f.close()"
      ],
      "metadata": {
        "id": "lp8VmYGxJloG"
      },
      "execution_count": null,
      "outputs": []
    },
    {
      "cell_type": "code",
      "source": [
        "print(min_temp, min_data)"
      ],
      "metadata": {
        "colab": {
          "base_uri": "https://localhost:8080/"
        },
        "id": "j9IhMY65KMly",
        "outputId": "9f07ca79-45cf-4a32-83d0-33c40307dd81"
      },
      "execution_count": null,
      "outputs": [
        {
          "output_type": "stream",
          "name": "stdout",
          "text": [
            "13.2 2023-04-25\n"
          ]
        }
      ]
    },
    {
      "cell_type": "code",
      "source": [
        "# 기본 그래프 그리기\n",
        "\n",
        "import matplotlib.pyplot as plt\n",
        "plt.plot([10,20,30,40])\n",
        "plt.show()"
      ],
      "metadata": {
        "colab": {
          "base_uri": "https://localhost:8080/",
          "height": 430
        },
        "id": "tZ0t9J9VKSUw",
        "outputId": "f517d969-e8ba-483c-be6c-fd0d1905c246"
      },
      "execution_count": null,
      "outputs": [
        {
          "output_type": "display_data",
          "data": {
            "text/plain": [
              "<Figure size 640x480 with 1 Axes>"
            ],
            "image/png": "[encoded data removed]"
          },
          "metadata": {}
        }
      ]
    },
    {
      "cell_type": "code",
      "source": [
        "# 첫번째 리스트가 x축 두번째 리스트가 y축\n",
        "\n",
        "import matplotlib.pyplot as plt\n",
        "plt.plot([1,2,3,4], [12,43,25,15])#첫번째 리스트가 x축, 두번째 리스트가 y축\n",
        "plt.show()"
      ],
      "metadata": {
        "colab": {
          "base_uri": "https://localhost:8080/",
          "height": 430
        },
        "id": "0FFcAk9sKmc0",
        "outputId": "9d08a5e5-4870-49f6-ea51-d543c9be932f"
      },
      "execution_count": null,
      "outputs": [
        {
          "output_type": "display_data",
          "data": {
            "text/plain": [
              "<Figure size 640x480 with 1 Axes>"
            ],
            "image/png": "[encoded data removed]"
          },
          "metadata": {}
        }
      ]
    },
    {
      "cell_type": "code",
      "source": [
        "# 그래프 이름 넣기\n",
        "\n",
        "plt.title('plotting')#그래프의 타이틀\n",
        "plt.plot([10,20,30,40])\n",
        "plt.show()"
      ],
      "metadata": {
        "colab": {
          "base_uri": "https://localhost:8080/",
          "height": 452
        },
        "id": "-1B9H8-kLO_t",
        "outputId": "c84017fa-c6f1-447a-ef69-89f7335dddfc"
      },
      "execution_count": null,
      "outputs": [
        {
          "output_type": "display_data",
          "data": {
            "text/plain": [
              "<Figure size 640x480 with 1 Axes>"
            ],
            "image/png": "[encoded data removed]"
          },
          "metadata": {}
        }
      ]
    },
    {
      "cell_type": "code",
      "source": [
        "# 범례 지정\n",
        "\n",
        "plt.title('legend')#타이틀은 legend 로 지정\n",
        "plt.plot([10,20,30,40], label = 'asc') #상승라인은 asc로 지정\n",
        "plt.plot([40,30,20,10], label = 'desc') #하강라인은 desc로 지정\n",
        "plt.legend()#범례표시 호출\n",
        "plt.show()"
      ],
      "metadata": {
        "colab": {
          "base_uri": "https://localhost:8080/",
          "height": 452
        },
        "id": "1ZwxMKBGLfO8",
        "outputId": "179c482b-8406-4240-c977-09d3adf7a584"
      },
      "execution_count": null,
      "outputs": [
        {
          "output_type": "display_data",
          "data": {
            "text/plain": [
              "<Figure size 640x480 with 1 Axes>"
            ],
            "image/png": "[encoded data removed]"
          },
          "metadata": {}
        }
      ]
    },
    {
      "cell_type": "code",
      "source": [
        "# 그래프 컬러 지정 \n",
        "plt.title('color')\n",
        "plt.plot([10,20,30,40], color = 'skyblue', label = 'skyblue')\n",
        "plt.plot([40,30,20,10], 'pink', label = 'pink')\n",
        "plt.legend()#범례표시 호출\n",
        "plt.show()"
      ],
      "metadata": {
        "colab": {
          "base_uri": "https://localhost:8080/",
          "height": 452
        },
        "id": "NDoow5OKLnA-",
        "outputId": "051afcf0-c683-41c9-feb7-921e02359511"
      },
      "execution_count": null,
      "outputs": [
        {
          "output_type": "display_data",
          "data": {
            "text/plain": [
              "<Figure size 640x480 with 1 Axes>"
            ],
            "image/png": "[encoded data removed]"
          },
          "metadata": {}
        }
      ]
    },
    {
      "cell_type": "code",
      "source": [
        "# 라인 스타일 변경\n",
        "\n",
        "plt.title('linestyle')\n",
        "plt.plot([10,20,30,40], color = 'r', linestyle = '--', label = 'dashed')\n",
        "plt.plot([40,30,20,10], 'g', ls = ':', label = 'dotted')\n",
        "plt.legend()#범례표시 호출\n",
        "plt.show()"
      ],
      "metadata": {
        "colab": {
          "base_uri": "https://localhost:8080/",
          "height": 452
        },
        "id": "dGBClWKnL8fb",
        "outputId": "d86068fe-ae80-4978-862c-cfd55d369cc6"
      },
      "execution_count": null,
      "outputs": [
        {
          "output_type": "display_data",
          "data": {
            "text/plain": [
              "<Figure size 640x480 with 1 Axes>"
            ],
            "image/png": "[encoded data removed]"
          },
          "metadata": {}
        }
      ]
    },
    {
      "cell_type": "code",
      "source": [
        "# 그래프 마커 모양 표시\n",
        "plt.title('marker')\n",
        "plt.plot([10,20,30,40], 'r.--', label = 'circle')#색상, 마커모양, 선모양(r.--)\n",
        "plt.plot([40,30,20,10], 'g^', label = 'triangle up')\n",
        "plt.legend()#범례표시 호출\n",
        "plt.show()"
      ],
      "metadata": {
        "colab": {
          "base_uri": "https://localhost:8080/",
          "height": 452
        },
        "id": "8kKjJXV0MC1d",
        "outputId": "331c615a-f736-4ed3-ad97-c40135cd3747"
      },
      "execution_count": null,
      "outputs": [
        {
          "output_type": "display_data",
          "data": {
            "text/plain": [
              "<Figure size 640x480 with 1 Axes>"
            ],
            "image/png": "[encoded data removed]"
          },
          "metadata": {}
        }
      ]
    },
    {
      "cell_type": "code",
      "source": [
        "######## 추가 데이터\n",
        "\n",
        "# 예제파일 1개 더 Import\n",
        "\n",
        "test_dataset = open(\"/content/example_4_each.csv\")\n",
        "\n",
        "# 년도 리스트\n",
        "years = []\n",
        "# 인구수 리스트\n",
        "populations = []\n",
        "\n",
        "for line in test_dataset: \n",
        "  (year, population) = line.split(',')\n",
        "  if year != \"구분\":   \n",
        "    years.append(int(year))\n",
        "    populations.append(int(population))\n",
        "\n",
        "test_dataset.close() "
      ],
      "metadata": {
        "id": "AVW-zci0MZB5"
      },
      "execution_count": null,
      "outputs": []
    },
    {
      "cell_type": "code",
      "source": [
        "print(years)\n",
        "print(populations)"
      ],
      "metadata": {
        "colab": {
          "base_uri": "https://localhost:8080/"
        },
        "id": "njmte8spMGo-",
        "outputId": "6dedb85e-8df9-4f32-d7db-0c22228aa064"
      },
      "execution_count": null,
      "outputs": [
        {
          "output_type": "stream",
          "name": "stdout",
          "text": [
            "[1949, 1955, 1960, 1966, 1970, 1975, 1980, 1985, 1990, 1995, 2000, 2005, 2010, 2015, 2020]\n",
            "[1437670, 1568746, 2445402, 3793280, 5525262, 6879262, 8335616, 9625755, 10603250, 10217177, 9853972, 9762546, 9631482, 9643432, 9540443]\n"
          ]
        }
      ]
    },
    {
      "cell_type": "code",
      "source": [
        "#실습\n",
        "\n",
        "# 그래프를 그릴 도화지 준비하기\n",
        "fig = plt.figure()\n",
        "ax = fig.add_subplot(1, 1, 1)\n",
        "\n",
        "# x축에 년도, y축에 인구수가 있는 선 그래프 만들기\n",
        "plt.plot(years, populations, color='green', marker='o', linestyle='solid')\n",
        "\n",
        "# 제목 더하기\n",
        "plt.title(\"Seoul Population Change\")\n",
        "\n",
        "# y축에 레이블 추가하기\n",
        "plt.ylabel(\"10Million\")\n",
        "plt.show()"
      ],
      "metadata": {
        "colab": {
          "base_uri": "https://localhost:8080/",
          "height": 452
        },
        "id": "g-eZTxRkMQju",
        "outputId": "7c1a78fc-b304-414a-ea2c-41230297b0fa"
      },
      "execution_count": null,
      "outputs": [
        {
          "output_type": "display_data",
          "data": {
            "text/plain": [
              "<Figure size 640x480 with 1 Axes>"
            ],
            "image/png": "[encoded data removed]"
          },
          "metadata": {}
        }
      ]
    },
    {
      "cell_type": "code",
      "source": [
        "# x축에 년도, y축에 인구수가 있는 선 그래프 만들기\n",
        "plt.plot(years, populations)\n",
        "plt.show()"
      ],
      "metadata": {
        "colab": {
          "base_uri": "https://localhost:8080/",
          "height": 445
        },
        "id": "vhmorY_2NGi9",
        "outputId": "47f4074d-2a34-435d-8a0f-14a7a421ceed"
      },
      "execution_count": null,
      "outputs": [
        {
          "output_type": "display_data",
          "data": {
            "text/plain": [
              "<Figure size 640x480 with 1 Axes>"
            ],
            "image/png": "[encoded data removed]"
          },
          "metadata": {}
        }
      ]
    },
    {
      "cell_type": "code",
      "source": [
        "# 최고 기온 데이터\n",
        "import csv\n",
        "f = open('CSV_example2_data.csv')\n",
        "data = csv.reader(f)\n",
        "next(data)\n",
        "\n",
        "result = []\n",
        "\n",
        "for row in data:\n",
        "  result.append(float(row[4]))\n",
        "f.close()"
      ],
      "metadata": {
        "id": "0muT2MW-NNE9"
      },
      "execution_count": null,
      "outputs": []
    },
    {
      "cell_type": "code",
      "source": [
        "plt.figure(figsize = (10,2)) #가로길이 10 세로길이 2\n",
        "plt.plot(result, 'r') # 컬러는 레드\n",
        "plt.show()"
      ],
      "metadata": {
        "colab": {
          "base_uri": "https://localhost:8080/",
          "height": 234
        },
        "id": "ipPWGGD1Ncso",
        "outputId": "5c00eaa4-bc82-46b5-a489-2c556b35be71"
      },
      "execution_count": null,
      "outputs": [
        {
          "output_type": "display_data",
          "data": {
            "text/plain": [
              "<Figure size 1000x200 with 1 Axes>"
            ],
            "image/png": "[encoded data removed]"
          },
          "metadata": {}
        }
      ]
    },
    {
      "cell_type": "code",
      "source": [
        "# 최고 4월 5월 데이터를 비교하는 그래프\n",
        "import csv\n",
        "f = open('CSV_example2_data.csv')\n",
        "data = csv.reader(f)\n",
        "next(data)"
      ],
      "metadata": {
        "colab": {
          "base_uri": "https://localhost:8080/"
        },
        "id": "eSF5eFkIO4JT",
        "outputId": "a5632abb-0dfe-480d-f572-4967714fa25f"
      },
      "execution_count": null,
      "outputs": [
        {
          "output_type": "execute_result",
          "data": {
            "text/plain": [
              "['날짜', '지점', '평균기온', '최저기온', '최고기온']"
            ]
          },
          "metadata": {},
          "execution_count": 120
        }
      ]
    },
    {
      "cell_type": "code",
      "source": [],
      "metadata": {
        "colab": {
          "base_uri": "https://localhost:8080/"
        },
        "id": "iyU0-vdyO6QV",
        "outputId": "7ad6b0b0-74ac-43fd-e2b1-2b6965b0e601"
      },
      "execution_count": null,
      "outputs": [
        {
          "output_type": "stream",
          "name": "stdout",
          "text": [
            "<_csv.reader object at 0x7f58c0861230>\n"
          ]
        }
      ]
    },
    {
      "cell_type": "code",
      "source": [
        "# 최고 4월 5월 데이터를 비교하는 그래프\n",
        "import csv\n",
        "f = open('CSV_example2_data.csv')\n",
        "data = csv.reader(f)\n",
        "next(data)\n",
        "\n",
        "result_04 = [] #최고 기온 데이터 저장할 리스트 생성\n",
        "result_05 = [] \n",
        "\n",
        "for row in data:    \n",
        "  month = row[0].split('-')[1]\n",
        "  if month == '04':\n",
        "    result_04.append(float(row[4])) \n",
        "  if month == '05': #5월만해도 됨\n",
        "    result_05.append(float(row[4]))       \n",
        "f.close()"
      ],
      "metadata": {
        "id": "V5bmJIs6Nv1A"
      },
      "execution_count": null,
      "outputs": []
    },
    {
      "cell_type": "code",
      "source": [
        "plt.plot(result_04, 'pink', label = 'month_04')\n",
        "plt.plot(result_05, 'blue', label = 'month_05')\n",
        "plt.show()"
      ],
      "metadata": {
        "colab": {
          "base_uri": "https://localhost:8080/",
          "height": 430
        },
        "id": "937toTebQTph",
        "outputId": "000bad4a-95e5-4b15-e408-7a4d890ad8ce"
      },
      "execution_count": null,
      "outputs": [
        {
          "output_type": "display_data",
          "data": {
            "text/plain": [
              "<Figure size 640x480 with 1 Axes>"
            ],
            "image/png": "[encoded data removed]"
          },
          "metadata": {}
        }
      ]
    },
    {
      "cell_type": "code",
      "source": [],
      "metadata": {
        "id": "SA6iFQyYQknj"
      },
      "execution_count": null,
      "outputs": []
    }
  ]
}