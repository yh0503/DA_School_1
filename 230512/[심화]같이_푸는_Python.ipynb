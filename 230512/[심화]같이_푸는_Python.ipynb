{
  "nbformat": 4,
  "nbformat_minor": 0,
  "metadata": {
    "colab": {
      "provenance": []
    },
    "kernelspec": {
      "name": "python3",
      "display_name": "Python 3"
    },
    "language_info": {
      "name": "python"
    }
  },
  "cells": [
    {
      "cell_type": "markdown",
      "source": [
        "# 실시간 검색어"
      ],
      "metadata": {
        "id": "J1Nf92w5Ju5A"
      }
    },
    {
      "cell_type": "code",
      "execution_count": null,
      "metadata": {
        "id": "RnddSZQMJN7I"
      },
      "outputs": [],
      "source": [
        "from bs4 import BeautifulSoup\n",
        "import requests\n",
        "from datetime import datetime\n",
        "\n",
        "url = \"http://www.daum.net/\"\n",
        "response = requests.get(url)\n",
        "soup = BeautifulSoup(response.text, 'html.parser')\n",
        "rank = 1\n",
        "\n",
        "results = soup.findAll('a','link_favorsch')\n",
        "\n",
        "search_rank_file = open(\"rankresult.txt\",\"a\")\n",
        "\n",
        "print(datetime.today().strftime(\"%Y년 %m월 %d일의 실시간 검색어 순위입니다.\\n\"))\n",
        "\n",
        "for result in results:\n",
        "    search_rank_file.write(str(rank)+\"위:\"+result.get_text()+\"\\n\")\n",
        "    print(rank,\"위 : \",result.get_text(),\"\\n\")\n",
        "    rank += 1"
      ]
    },
    {
      "cell_type": "markdown",
      "source": [
        "# 날씨정보 받아오기"
      ],
      "metadata": {
        "id": "BmfPjBX0KMjO"
      }
    },
    {
      "cell_type": "code",
      "source": [
        "import requests\n",
        "import json\n",
        "\n",
        "city = \"Seoul\"\n",
        "apikey = \"################################\"\n",
        "lang = \"kr\"\n",
        "\n",
        "api = f\"http://api.openweathermap.org/data/2.5/weather?q={city}&appid={apikey}&lang={lang}&units=metric\"\n",
        "\n",
        "result = requests.get(api)\n",
        "data = json.loads(result.text)\n",
        "\n",
        "print(data[\"name\"],\"의 날씨입니다.\")\n",
        "print(\"날씨는 \",data[\"weather\"][0][\"description\"],\"입니다.\")\n",
        "print(\"현재 온도는 \",data[\"main\"][\"temp\"],\"입니다.\")\n",
        "print(\"하지만 체감 온도는 \",data[\"main\"][\"feels_like\"],\"입니다.\")\n",
        "print(\"최저 기온은 \",data[\"main\"][\"temp_min\"],\"입니다.\")\n",
        "print(\"최고 기온은 \",data[\"main\"][\"temp_max\"],\"입니다.\")\n",
        "print(\"습도는 \",data[\"main\"][\"humidity\"],\"입니다.\")\n",
        "print(\"기압은 \",data[\"main\"][\"pressure\"],\"입니다.\")\n",
        "print(\"풍향은 \",data[\"wind\"][\"deg\"],\"입니다.\")\n",
        "print(\"풍속은 \",data[\"wind\"][\"speed\"],\"입니다.\")"
      ],
      "metadata": {
        "id": "DvEYk1GYKFwA"
      },
      "execution_count": null,
      "outputs": []
    },
    {
      "cell_type": "markdown",
      "source": [
        "# 번역하기"
      ],
      "metadata": {
        "id": "6xJC_S7UKW4w"
      }
    },
    {
      "cell_type": "code",
      "source": [
        "from googletrans import Translator\n",
        "\n",
        "translator = Translator()\n",
        "sentence = \"좋은 아침이에요\"\n",
        "# sentence = input(\"번역을 원하는 문장을 입력하세요 : \")\n",
        "result = translator.translate(sentence, dest=\"en\")\n",
        "detect = translator.detect(sentence)\n",
        "\n",
        "print(\"\\n============= 번역 결과 ============\\n\")\n",
        "print(detect.lang,\":\", result.origin)\n",
        "print(result.dest,\":\", result.text)\n",
        "print(\"\\n====================================\\n\")"
      ],
      "metadata": {
        "id": "g0WiIwRCKZcS"
      },
      "execution_count": null,
      "outputs": []
    },
    {
      "cell_type": "markdown",
      "source": [
        "# 메일 보내기"
      ],
      "metadata": {
        "id": "DwX2olgxKaw9"
      }
    },
    {
      "cell_type": "code",
      "source": [
        "from email.message import EmailMessage\n",
        "import smtplib\n",
        "\n",
        "# SMTP 접속을 위한 서버, 계정 설정\n",
        "SMTP_SERVER = \"smtp.gmail.com\"\n",
        "# google의 SMTP server 포트 주소는 465\n",
        "SMTP_PORT = 465\n",
        "\n",
        "\n",
        "# 이메일 유효성 검사 함수\n",
        "def is_valid(addr):\n",
        "    import re\n",
        "    if re.match('(^[a-zA-Z0-9.+_-]+@[a-zA-Z0-9-]+.[a-zA-Z]{2,3}$)', addr):\n",
        "        return True\n",
        "    else:\n",
        "        return False\n",
        "\n",
        "message = EmailMessage()\n",
        "message.set_content(\"코드라이언 메일링 수업 - 본문입니다.\")\n",
        "\n",
        "message[\"Subject\"] = \"코드라이언 메일링 수업입니다.\"\n",
        "message[\"From\"] = \"###@gmail.com\"\n",
        "message[\"To\"] = \"###@gmail.com\"\n",
        "\n",
        "smtp = smtplib.SMTP_SSL(SMTP_SERVER,SMTP_PORT)\n",
        "smtp.login(\"###@gmail.com\",\"######\")\n",
        "\n",
        "is_valid(\"###@gmail.com\")\n",
        "if smtp.send_message(message)=={} :\n",
        "    print(\"성공적으로 메일을 보냈습니다.\")\n",
        "\n",
        "smtp.quit()"
      ],
      "metadata": {
        "id": "7XC5PkZlKjQO"
      },
      "execution_count": null,
      "outputs": []
    }
  ]
}