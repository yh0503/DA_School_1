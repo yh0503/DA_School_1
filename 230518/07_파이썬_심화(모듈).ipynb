{
  "nbformat": 4,
  "nbformat_minor": 0,
  "metadata": {
    "colab": {
      "provenance": []
    },
    "kernelspec": {
      "name": "python3",
      "display_name": "Python 3"
    },
    "language_info": {
      "name": "python"
    }
  },
  "cells": [
    {
      "cell_type": "code",
      "execution_count": null,
      "metadata": {
        "id": "vRM3rxPgv5Aj"
      },
      "outputs": [],
      "source": [
        "[모듈이란?]\n",
        "\n",
        "파이썬에서 이미 작성된 프로그램을 모듈이라고 생각하면 쉬움\n",
        "그 프로그램의 묶음은 패키지이다.\n",
        "\n",
        "쉬운 예로 레고블럭 하나하나가 모듈이라고 생각하면 되고 그것이 모여 하나의 큰 모듈 및 패키지 완성품을 만들 수 있고, \n",
        "이러한 개념은 스마트폰이나 자동차등 생활 곳곳에서 볼 수 있음\n",
        "\n",
        "그러면 프로그래밍에서의 모듈은 무엇일까? -> 작은 프로그램의 조각을 뜻한다. 각 모듈은 저마다의 역할이 있다.\n",
        "\n",
        "우리는 이미 많은 모듈을 사용했었다. random 모듈 time 모듈 등 import를 해서 사용이 가능하고 기본적으로 파이썬에 내장되어있는 모듈을 위주로 사용했었다."
      ]
    },
    {
      "cell_type": "code",
      "source": [
        "[패키지란?]\n",
        "\n",
        "# 패키지란?\n",
        "\n",
        "패키지는 쉽게 모듈의 묶음이다. from을 통해 모듈을 호출하는 경우가 있었는데\n",
        "이는 패키지는 출력하기 위한 수단이다.\n",
        "\n",
        "하나의 패키지 안에는 보통 여러 모듈이 있다.\n",
        "\n",
        "여러분들도 좋은 패키지가 많이 구현이 되어있기 때문에 앞으로 그런 패키지를 공부할것이고 데이터 분석에 활용할것임\n",
        "\n",
        "여러분들도 그러한 패키지를 만들어서 사회에 공헌했으면 하는 바램도 있음\n",
        "\n",
        "그러면 일단 우리가 사용했던 모듈과 더 살펴봐야할 모듈을 배워보고, 모듈을 직접 만들어 보자!!"
      ],
      "metadata": {
        "id": "DLLJYR-LDqIl"
      },
      "execution_count": null,
      "outputs": []
    },
    {
      "cell_type": "markdown",
      "source": [
        "## 1.1 모듈과 패키지 사용하는 법\n",
        "\n",
        "지금까지 파이썬 코드를 작성하면서 input, print 등의 내장 함수(built-in function)를 주로 사용했는데, 내장 함수만으로는 할 수 있는게 별로 없습니다. 그래서 좀 더 복잡한 프로그램을 만들려면 파이썬의 모듈과 패키지를 사용해야 합니다. 우리가 책 중간 중간에 사용했던 random, turtle, pickle 등이 바로 모듈과 패키지입니다.\n",
        "\n",
        "모듈(module)은 각종 변수, 함수, 클래스를 담고 있는 파일이고, 패키지(package)는 여러 모듈을 묶은 것입니다. 파이썬을 설치할 때 다양한 모듈과 패키지가 기본으로 설치됩니다. 만약 기본 모듈과 패키지로 부족하다면 다른 사람이 만든 유명 모듈과 패키지를 설치해서 쓸 수도 있습니다."
      ],
      "metadata": {
        "id": "1SJvCKkaD6Jv"
      }
    },
    {
      "cell_type": "code",
      "source": [
        "# 모듈 예시 - 1\n",
        "import math \n",
        "\n",
        "math.pi"
      ],
      "metadata": {
        "colab": {
          "base_uri": "https://localhost:8080/"
        },
        "id": "6B8tzcyjD6oT",
        "outputId": "7d9f4154-ce4c-4695-dae7-eebfddbe32b6"
      },
      "execution_count": null,
      "outputs": [
        {
          "output_type": "execute_result",
          "data": {
            "text/plain": [
              "3.141592653589793"
            ]
          },
          "metadata": {},
          "execution_count": 1
        }
      ]
    },
    {
      "cell_type": "code",
      "source": [
        "math.sqrt(4)"
      ],
      "metadata": {
        "colab": {
          "base_uri": "https://localhost:8080/"
        },
        "id": "Q-Kb4xPzEZQM",
        "outputId": "41851b1e-42b1-494e-b1cb-b5b77dbd3326"
      },
      "execution_count": null,
      "outputs": [
        {
          "output_type": "execute_result",
          "data": {
            "text/plain": [
              "2.0"
            ]
          },
          "metadata": {},
          "execution_count": 3
        }
      ]
    },
    {
      "cell_type": "code",
      "source": [
        "# 모듈의 에러\n",
        "\n",
        "ModuleNotFoundError: No module named ...: \n",
        "모듈의 이름이 잘못되었을 때 발생하는 에러입니다. 모듈 이름이 맞는지 확인해주세요.\n",
        "\n",
        "AttributeError: module ... has no attribute ...: \n",
        "모듈의 변수나 함수의 이름을 잘못되었을 때 발생하는 에러입니다. 변수, 함수의 이름이 맞는지 확인해주세요."
      ],
      "metadata": {
        "id": "cEhgTyUpEhgn"
      },
      "execution_count": null,
      "outputs": []
    },
    {
      "cell_type": "code",
      "source": [
        "# Import as로 모듈 이름을 정할 수 있다.\n",
        "\n",
        "import 모듈 as 이름"
      ],
      "metadata": {
        "id": "tANaWL_jE5jn"
      },
      "execution_count": null,
      "outputs": []
    },
    {
      "cell_type": "code",
      "source": [
        "import math as ma"
      ],
      "metadata": {
        "id": "SH_vWzugE5eb"
      },
      "execution_count": null,
      "outputs": []
    },
    {
      "cell_type": "code",
      "source": [
        "ma.sqrt(4.0)"
      ],
      "metadata": {
        "colab": {
          "base_uri": "https://localhost:8080/"
        },
        "id": "2wV5joXfFE1S",
        "outputId": "3897a7ea-4be6-44aa-9c20-9378816ed3b6"
      },
      "execution_count": null,
      "outputs": [
        {
          "output_type": "execute_result",
          "data": {
            "text/plain": [
              "2.0"
            ]
          },
          "metadata": {},
          "execution_count": 5
        }
      ]
    },
    {
      "cell_type": "code",
      "source": [
        "# 모듈의 일부만 가져오는 \n",
        "\n",
        "from 모듈 import 함수\n",
        "from 모듈 import 클래스"
      ],
      "metadata": {
        "id": "RxeDmGnZFGhr"
      },
      "execution_count": null,
      "outputs": []
    },
    {
      "cell_type": "code",
      "source": [
        "from math import sqrt"
      ],
      "metadata": {
        "id": "CSlH3tYMFWX8"
      },
      "execution_count": null,
      "outputs": []
    },
    {
      "cell_type": "code",
      "source": [
        "sqrt(4.0)"
      ],
      "metadata": {
        "colab": {
          "base_uri": "https://localhost:8080/"
        },
        "id": "U5fzQDSrFYH7",
        "outputId": "104f4af2-566a-4144-d33d-142de9c9a333"
      },
      "execution_count": null,
      "outputs": [
        {
          "output_type": "execute_result",
          "data": {
            "text/plain": [
              "2.0"
            ]
          },
          "metadata": {},
          "execution_count": 7
        }
      ]
    },
    {
      "cell_type": "code",
      "source": [
        "# 이름을 지정할 수 있다.\n",
        "from math import sqrt "
      ],
      "metadata": {
        "id": "Bnd53DkFFaXl"
      },
      "execution_count": null,
      "outputs": []
    },
    {
      "cell_type": "markdown",
      "source": [
        "#1.2 패키지 가져오기"
      ],
      "metadata": {
        "id": "tfKRf9h_JBPm"
      }
    },
    {
      "cell_type": "code",
      "source": [
        "import urllib.request"
      ],
      "metadata": {
        "id": "AkSYd09dJCXM"
      },
      "execution_count": null,
      "outputs": []
    },
    {
      "cell_type": "code",
      "source": [
        "response = urllib.request.urlopen('http://www.google.co.kr')"
      ],
      "metadata": {
        "id": "Pf6rVpj2JGmz"
      },
      "execution_count": null,
      "outputs": []
    },
    {
      "cell_type": "code",
      "source": [
        "response.status"
      ],
      "metadata": {
        "colab": {
          "base_uri": "https://localhost:8080/"
        },
        "id": "WNBqolG_JICv",
        "outputId": "61685dbe-b8f3-48d4-ed81-7b82201860d9"
      },
      "execution_count": null,
      "outputs": [
        {
          "output_type": "execute_result",
          "data": {
            "text/plain": [
              "200"
            ]
          },
          "metadata": {},
          "execution_count": 10
        }
      ]
    },
    {
      "cell_type": "code",
      "source": [
        "import urllib.request as r"
      ],
      "metadata": {
        "id": "OAJ9l7ZaJLLJ"
      },
      "execution_count": null,
      "outputs": []
    },
    {
      "cell_type": "code",
      "source": [
        "from urllib.request import Request, urlopen"
      ],
      "metadata": {
        "id": "1U-IKnkKJTuo"
      },
      "execution_count": null,
      "outputs": []
    },
    {
      "cell_type": "code",
      "source": [
        "from urllib.request import *"
      ],
      "metadata": {
        "id": "93Z_rBG7JVLU"
      },
      "execution_count": null,
      "outputs": []
    },
    {
      "cell_type": "code",
      "source": [
        "from 패키지.모듈 import 변수 as 이름, 함수 as 이름, 클래스 as 이름"
      ],
      "metadata": {
        "id": "8wAFGK8rJdyp"
      },
      "execution_count": null,
      "outputs": []
    },
    {
      "cell_type": "code",
      "source": [
        "!pip install Faker"
      ],
      "metadata": {
        "colab": {
          "base_uri": "https://localhost:8080/"
        },
        "id": "3PoR0k1XJlFp",
        "outputId": "4b596fb8-849b-4cca-c200-79e1b9dea5ab"
      },
      "execution_count": null,
      "outputs": [
        {
          "output_type": "stream",
          "name": "stdout",
          "text": [
            "Looking in indexes: https://pypi.org/simple, https://us-python.pkg.dev/colab-wheels/public/simple/\n",
            "Collecting Faker\n",
            "  Downloading Faker-18.9.0-py3-none-any.whl (1.7 MB)\n",
            "\u001b[2K     \u001b[90m━━━━━━━━━━━━━━━━━━━━━━━━━━━━━━━━━━━━━━━━\u001b[0m \u001b[32m1.7/1.7 MB\u001b[0m \u001b[31m25.6 MB/s\u001b[0m eta \u001b[36m0:00:00\u001b[0m\n",
            "\u001b[?25hRequirement already satisfied: python-dateutil>=2.4 in /usr/local/lib/python3.10/dist-packages (from Faker) (2.8.2)\n",
            "Requirement already satisfied: six>=1.5 in /usr/local/lib/python3.10/dist-packages (from python-dateutil>=2.4->Faker) (1.16.0)\n",
            "Installing collected packages: Faker\n",
            "Successfully installed Faker-18.9.0\n"
          ]
        }
      ]
    },
    {
      "cell_type": "code",
      "source": [
        "# 이번에는 pip을 사용하여 유용한 외부 라이브러리중 하나인 faker를 설치하고 사용해 보자. \n",
        "# faker는 테스트용 가짜 데이터를 생성할 때 사용하는 라이브러리이다.\n",
        "\n",
        "# 만약 다음과 같은 형식의 테스트 데이터 30건이 필요하다고 가정해 보자. \n",
        "# 직접 데이터를 작성하지 말고 좀 더 편리한 방법으로 테스트 데이터를 만들려면 어떻게 해야 할까?"
      ],
      "metadata": {
        "id": "dznNrYGeJrP1"
      },
      "execution_count": null,
      "outputs": []
    },
    {
      "cell_type": "code",
      "source": [
        "[(이름1, 주소1), (이름2, 주소2), ..., (이름30, 주소30)]"
      ],
      "metadata": {
        "id": "WzYOxzQ9KA_9"
      },
      "execution_count": null,
      "outputs": []
    },
    {
      "cell_type": "code",
      "source": [
        "from faker import Faker\n",
        "fake = Faker()\n",
        "fake.name()"
      ],
      "metadata": {
        "colab": {
          "base_uri": "https://localhost:8080/",
          "height": 36
        },
        "id": "45x0qMLCKJsg",
        "outputId": "4974885f-e6ab-40cf-aea9-3b3a24d9fe45"
      },
      "execution_count": null,
      "outputs": [
        {
          "output_type": "execute_result",
          "data": {
            "text/plain": [
              "'David Bass PhD'"
            ],
            "application/vnd.google.colaboratory.intrinsic+json": {
              "type": "string"
            }
          },
          "metadata": {},
          "execution_count": 15
        }
      ]
    },
    {
      "cell_type": "code",
      "source": [
        "fake = Faker('ko-KR')\n",
        "fake.name()"
      ],
      "metadata": {
        "colab": {
          "base_uri": "https://localhost:8080/",
          "height": 36
        },
        "id": "Zl2GXfAlKRCC",
        "outputId": "2b24d4d4-05ab-4897-be16-05d9bc404084"
      },
      "execution_count": null,
      "outputs": [
        {
          "output_type": "execute_result",
          "data": {
            "text/plain": [
              "'박성진'"
            ],
            "application/vnd.google.colaboratory.intrinsic+json": {
              "type": "string"
            }
          },
          "metadata": {},
          "execution_count": 16
        }
      ]
    },
    {
      "cell_type": "code",
      "source": [
        "fake.address()"
      ],
      "metadata": {
        "colab": {
          "base_uri": "https://localhost:8080/",
          "height": 36
        },
        "id": "G9p6_f1IKdU3",
        "outputId": "79c7addd-8a77-4c75-f1eb-6917b2598ee3"
      },
      "execution_count": null,
      "outputs": [
        {
          "output_type": "execute_result",
          "data": {
            "text/plain": [
              "'충청남도 옥천군 역삼로'"
            ],
            "application/vnd.google.colaboratory.intrinsic+json": {
              "type": "string"
            }
          },
          "metadata": {},
          "execution_count": 17
        }
      ]
    },
    {
      "cell_type": "code",
      "source": [
        "test_data = [(fake.name(), fake.address()) for i in range(30)]"
      ],
      "metadata": {
        "id": "7yTZteBEKf6F"
      },
      "execution_count": null,
      "outputs": []
    },
    {
      "cell_type": "code",
      "source": [
        "test_data"
      ],
      "metadata": {
        "colab": {
          "base_uri": "https://localhost:8080/"
        },
        "id": "U3BWZASsKnMH",
        "outputId": "aa2468f2-528e-4a4f-8edc-aafed9ed0708"
      },
      "execution_count": null,
      "outputs": [
        {
          "output_type": "execute_result",
          "data": {
            "text/plain": [
              "[('이영일', '대전광역시 영등포구 역삼로 (정순주면)'),\n",
              " ('김현우', '광주광역시 용산구 잠실1거리 (예은강마을)'),\n",
              " ('서종수', '인천광역시 서대문구 역삼길'),\n",
              " ('김상철', '경상북도 천안시 동남구 테헤란로 (보람김지마을)'),\n",
              " ('이종수', '경기도 수원시 팔달구 서초중앙0로 (영미조면)'),\n",
              " ('최선영', '세종특별자치시 광진구 서초대길'),\n",
              " ('김서현', '강원도 옥천군 학동409거리'),\n",
              " ('김옥자', '광주광역시 영등포구 삼성로'),\n",
              " ('유명자', '충청남도 부천시 학동995거리'),\n",
              " ('윤윤서', '세종특별자치시 성동구 영동대1거리 (승현김동)'),\n",
              " ('권지혜', '제주특별자치도 진천군 영동대30거리 (하윤이김마을)'),\n",
              " ('이영일', '제주특별자치도 성남시 수정구 잠실길 (현정최마을)'),\n",
              " ('김지현', '대전광역시 강북구 반포대6가'),\n",
              " ('김수빈', '울산광역시 관악구 강남대로 (영철장김읍)'),\n",
              " ('민성진', '경기도 단양군 테헤란20길'),\n",
              " ('장숙자', '경상남도 이천시 반포대134가 (민석김이면)'),\n",
              " ('민서영', '전라남도 청주시 청원구 삼성거리 (상현송김읍)'),\n",
              " ('이정웅', '광주광역시 남구 가락로 (지혜장리)'),\n",
              " ('김미경', '인천광역시 강동구 논현가 (상현노동)'),\n",
              " ('이정식', '대구광역시 동대문구 도산대5가 (민준김동)'),\n",
              " ('최준혁', '전라북도 김포시 석촌호수9거리'),\n",
              " ('강현준', '경기도 용인시 처인구 논현거리'),\n",
              " ('주현숙', '세종특별자치시 관악구 잠실로'),\n",
              " ('박주원', '제주특별자치도 태안군 석촌호수가'),\n",
              " ('손영숙', '대전광역시 송파구 삼성88길 (시우이김리)'),\n",
              " ('김은정', '서울특별시 양천구 영동대로 (경자이면)'),\n",
              " ('진영길', '경상북도 용인시 수지구 서초중앙로 (하은이한읍)'),\n",
              " ('이성훈', '강원도 정선군 석촌호수5길 (은주박임리)'),\n",
              " ('김영식', '제주특별자치도 파주시 논현5가 (명숙김정리)'),\n",
              " ('박지후', '강원도 고성군 논현로 (은정이동)')]"
            ]
          },
          "metadata": {},
          "execution_count": 19
        }
      ]
    },
    {
      "cell_type": "code",
      "source": [
        "항목\t설명\n",
        "fake.name()\t이름\n",
        "fake.address()\t주소\n",
        "fake.postcode()\t우편 번호\n",
        "fake.country()\t국가명\n",
        "fake.company()\t회사명\n",
        "fake.job()\t직업명\n",
        "fake.phone_number()\t휴대 전화 번호\n",
        "fake.email()\t이메일 주소\n",
        "fake.user_name()\t사용자명\n",
        "fake.pyint(min_value=0, max_value=100)\t0부터 100 사이의 임의의 숫자\n",
        "fake.ipv4_private()\tIP 주소\n",
        "fake.text()\t임의의 문장 (한글 임의의 문장은 fake.catch_phrase() 사용)\n",
        "fake.color_name()\t색상명"
      ],
      "metadata": {
        "id": "QfnwDFFEKoEO"
      },
      "execution_count": null,
      "outputs": []
    },
    {
      "cell_type": "code",
      "source": [
        "# [모듈 만들기]\n",
        "\n",
        "theater_module.py 라는 파이썬 파일을 만들어서 이 파일에 사람수에 따른 영화표 가격을 계산하는 함수 3개를 정의하려고한다.\n",
        "코드는 다음과 같다. \n",
        "이 파일은 사람 수에 따른 영화표 가격을 계산하는 함수 3개입니다.\n",
        "첫번째 price는 1인당 영화표 1만원, 두번째는 학생할인으로 20% 할인, 세번째는 VIP석으로 1.5만원으로 출력합니다."
      ],
      "metadata": {
        "id": "RFPgq2RfQzUp"
      },
      "execution_count": null,
      "outputs": []
    },
    {
      "cell_type": "code",
      "source": [
        "#경로설정\n",
        "import os\n",
        "os.chdir(\"/content/\")"
      ],
      "metadata": {
        "id": "ztarmz75QzMB"
      },
      "execution_count": null,
      "outputs": []
    },
    {
      "cell_type": "code",
      "source": [
        "import theater_module_test as tmt"
      ],
      "metadata": {
        "id": "NweDSL2yQzDx"
      },
      "execution_count": null,
      "outputs": []
    },
    {
      "cell_type": "code",
      "source": [
        "tmt.price(1)"
      ],
      "metadata": {
        "colab": {
          "base_uri": "https://localhost:8080/"
        },
        "id": "D-Y9vmqRQy5Q",
        "outputId": "2bfed88c-1b50-450d-ceb1-2155c5e9323a"
      },
      "execution_count": null,
      "outputs": [
        {
          "output_type": "stream",
          "name": "stdout",
          "text": [
            "영화표 가격은 10000 입니다.\n"
          ]
        }
      ]
    },
    {
      "cell_type": "code",
      "source": [
        "from theater_module_test import *"
      ],
      "metadata": {
        "id": "3bkOduC1R91N"
      },
      "execution_count": null,
      "outputs": []
    },
    {
      "cell_type": "code",
      "source": [
        "price(2)"
      ],
      "metadata": {
        "colab": {
          "base_uri": "https://localhost:8080/"
        },
        "id": "0dOhs6NVSTlx",
        "outputId": "d5631ec3-e485-4dba-8bae-34852ebfb38a"
      },
      "execution_count": null,
      "outputs": [
        {
          "output_type": "stream",
          "name": "stdout",
          "text": [
            "영화표 가격은 20000 입니다.\n"
          ]
        }
      ]
    },
    {
      "cell_type": "code",
      "source": [
        "# 패키지 만들기"
      ],
      "metadata": {
        "id": "iaUHGUnkSUnM"
      },
      "execution_count": null,
      "outputs": []
    },
    {
      "cell_type": "code",
      "source": [
        "import os\n",
        "os.chdir(\"/content/\")"
      ],
      "metadata": {
        "id": "CAjD8F_rUt-M"
      },
      "execution_count": null,
      "outputs": []
    },
    {
      "cell_type": "code",
      "source": [
        "import pkg_ex.seoul"
      ],
      "metadata": {
        "id": "QIhsjoPzUujC"
      },
      "execution_count": null,
      "outputs": []
    },
    {
      "cell_type": "code",
      "source": [
        "trip = pkg_ex.seoul.SeoulPkg()\n",
        "trip.detail()"
      ],
      "metadata": {
        "colab": {
          "base_uri": "https://localhost:8080/"
        },
        "id": "JLlky243U1Dc",
        "outputId": "ae8f1903-8f54-4036-e2fd-53c29da52f21"
      },
      "execution_count": null,
      "outputs": [
        {
          "output_type": "stream",
          "name": "stdout",
          "text": [
            "[서울 도심 패키지] 호캉스 100만원\n"
          ]
        }
      ]
    },
    {
      "cell_type": "code",
      "source": [
        "trip = pkg_ex.seoul.SeoulPkg()\n",
        "trip.detail()"
      ],
      "metadata": {
        "id": "A-yeiXEOU3nF"
      },
      "execution_count": null,
      "outputs": []
    },
    {
      "cell_type": "code",
      "source": [
        "# 주의 import문을 사용할때는 대상이 모듈이나 패키지여야하고, 클래스나 함수는 가져올수 없음\n",
        "import pkg_ex.seoul.SeoulPkg"
      ],
      "metadata": {
        "colab": {
          "base_uri": "https://localhost:8080/",
          "height": 331
        },
        "id": "oILEKveHVDH2",
        "outputId": "082f8c67-0dfa-4df3-eab9-4904855c84ac"
      },
      "execution_count": null,
      "outputs": [
        {
          "output_type": "error",
          "ename": "ModuleNotFoundError",
          "evalue": "ignored",
          "traceback": [
            "\u001b[0;31m---------------------------------------------------------------------------\u001b[0m",
            "\u001b[0;31mModuleNotFoundError\u001b[0m                       Traceback (most recent call last)",
            "\u001b[0;32m<ipython-input-30-5a8943ae791d>\u001b[0m in \u001b[0;36m<cell line: 2>\u001b[0;34m()\u001b[0m\n\u001b[1;32m      1\u001b[0m \u001b[0;31m# 주의 import문을 사용할때는 대상이 모듈이나 패키지여야하고, 클래스나 함수는 가져올수 없음\u001b[0m\u001b[0;34m\u001b[0m\u001b[0;34m\u001b[0m\u001b[0m\n\u001b[0;32m----> 2\u001b[0;31m \u001b[0;32mimport\u001b[0m \u001b[0mpkg_ex\u001b[0m\u001b[0;34m.\u001b[0m\u001b[0mseoul\u001b[0m\u001b[0;34m.\u001b[0m\u001b[0mSeoulPkg\u001b[0m\u001b[0;34m\u001b[0m\u001b[0;34m\u001b[0m\u001b[0m\n\u001b[0m",
            "\u001b[0;31mModuleNotFoundError\u001b[0m: No module named 'pkg_ex.seoul.SeoulPkg'; 'pkg_ex.seoul' is not a package",
            "",
            "\u001b[0;31m---------------------------------------------------------------------------\u001b[0;32m\nNOTE: If your import is failing due to a missing package, you can\nmanually install dependencies using either !pip or !apt.\n\nTo view examples of installing some common dependencies, click the\n\"Open Examples\" button below.\n\u001b[0;31m---------------------------------------------------------------------------\u001b[0m\n"
          ],
          "errorDetails": {
            "actions": [
              {
                "action": "open_url",
                "actionText": "Open Examples",
                "url": "/notebooks/snippets/importing_libraries.ipynb"
              }
            ]
          }
        }
      ]
    },
    {
      "cell_type": "code",
      "source": [
        "# 만약 from import 문을 사용하면 함수, 클래스, 모듈, 패키지 모두 가져올수 있음\n",
        "from pkg_ex.seoul import SeoulPkg \n",
        "\n",
        "trip_n = SeoulPkg()\n",
        "trip_n.detail()"
      ],
      "metadata": {
        "colab": {
          "base_uri": "https://localhost:8080/"
        },
        "id": "dVe9Fed9VFxg",
        "outputId": "2b59828c-fe92-4cfa-cbf8-956c3b7f5962"
      },
      "execution_count": null,
      "outputs": [
        {
          "output_type": "stream",
          "name": "stdout",
          "text": [
            "[서울 도심 패키지] 호캉스 100만원\n"
          ]
        }
      ]
    },
    {
      "cell_type": "code",
      "source": [
        "from pkg_ex import japan\n",
        "trip_n2 = japan.OsakaPkg()\n",
        "trip_n2.detail()"
      ],
      "metadata": {
        "colab": {
          "base_uri": "https://localhost:8080/"
        },
        "id": "KT6yQjgyVPZZ",
        "outputId": "f8220e7f-c321-4f42-a852-da2e14a433cc"
      },
      "execution_count": null,
      "outputs": [
        {
          "output_type": "stream",
          "name": "stdout",
          "text": [
            "[오사카] 유니버셜 패키지 100만원\n"
          ]
        }
      ]
    },
    {
      "cell_type": "code",
      "source": [],
      "metadata": {
        "id": "ioCtq6IiVUsJ"
      },
      "execution_count": null,
      "outputs": []
    },
    {
      "cell_type": "markdown",
      "source": [
        "#모듈 공개 설정"
      ],
      "metadata": {
        "id": "mamc-HSeVwvB"
      }
    },
    {
      "cell_type": "code",
      "source": [
        "# 우리는 보통 모든 패키지를 불러올때 다음과 같이 사용하죠\n",
        "from random import *"
      ],
      "metadata": {
        "id": "xk1SadA7VyAk"
      },
      "execution_count": null,
      "outputs": []
    },
    {
      "cell_type": "code",
      "source": [
        "from pkg_ex import * #seoul, japan"
      ],
      "metadata": {
        "id": "INqp2LVFV1aH"
      },
      "execution_count": null,
      "outputs": []
    },
    {
      "cell_type": "code",
      "source": [
        "trip_ex = seoul.SeoulPkg() #서울의 서울 패키지\n",
        "trip_ex.detail()"
      ],
      "metadata": {
        "colab": {
          "base_uri": "https://localhost:8080/"
        },
        "id": "zSH7bThiV8Kj",
        "outputId": "56cbfbb6-c8d7-41b2-fc7e-bf857d892593"
      },
      "execution_count": null,
      "outputs": [
        {
          "output_type": "stream",
          "name": "stdout",
          "text": [
            "[서울 도심 패키지] 호캉스 100만원\n"
          ]
        }
      ]
    },
    {
      "cell_type": "code",
      "source": [
        "# 아까와 같이 실행했는데 다음과 같이 오류가 뜨게 됩니다. import 할때 *로 표시한다는 것은\n",
        "# pkg_ex에 있는 모든 기능을 가져다 쓴다는 뜻인데 왜 실행이 안됐을까요?\n",
        "\n",
        "# 아직 공개설정이 안되서 그렇습니다.\n",
        "# 패키지는 공개범위를 설정할 수 있습니다.\n",
        "# 여러분께서도 공개하고 싶지 않은 것에 대해서는 사용할 수 없게 비공개로 둘수도 있어요\n",
        "\n",
        "# 앞서 아무 기능을 하지 않았던 __init__.py를 기억할텐데 다음과 같이 설정하면 공개설정을 할 수 있어요"
      ],
      "metadata": {
        "id": "wMmU0Ir2WK9h"
      },
      "execution_count": null,
      "outputs": []
    },
    {
      "cell_type": "code",
      "source": [
        "# 재정의 후 다시 실행\n",
        "\n",
        "from pkg_ex import *\n",
        "\n",
        "trip_ex2 = japan.OsakaPkg() #일본의 오사카 패키지\n",
        "trip_ex2.detail()"
      ],
      "metadata": {
        "colab": {
          "base_uri": "https://localhost:8080/"
        },
        "id": "BB4-0VPEXAUJ",
        "outputId": "224a7ec1-2d42-4b1c-d0c0-9e783a810b52"
      },
      "execution_count": null,
      "outputs": [
        {
          "output_type": "stream",
          "name": "stdout",
          "text": [
            "[오사카] 유니버셜 패키지 100만원\n"
          ]
        }
      ]
    },
    {
      "cell_type": "code",
      "source": [
        "if __name__ == \"__main__\":\n",
        "  pass\n",
        "else:\n",
        "  pass"
      ],
      "metadata": {
        "id": "J9eIpA8BXCtH"
      },
      "execution_count": null,
      "outputs": []
    },
    {
      "cell_type": "code",
      "source": [
        "__name__은 현재 모듈의 이름을 값으로 가지는 내장 변수입니다. \n",
        "그래서 앞의 코드와 같이 작성하면 파일이 실행될때 if문이 실행되게 되고, \n",
        "__main__이 아닌 그 모듈의 이름을 가져오게 됩니다."
      ],
      "metadata": {
        "id": "iY_Qc2T9XXvA"
      },
      "execution_count": null,
      "outputs": []
    },
    {
      "cell_type": "code",
      "source": [
        "# pkg_ex 패키지의 seoul.py에서 SeoulPkg() 클래스 정의 아래에 다음과 같이 코드를 쓰면\n",
        "# __name__변수가 __main__일때 \n",
        "# 모듈을 직접 실행하는 경우에는 if문에서 출력문과 함께 detail() 메서드를 호출하고\n",
        "# 그렇지 않으면 else문으로 호출 안내 문구를 넣어봅시다."
      ],
      "metadata": {
        "id": "pkwIGJJdXgWt"
      },
      "execution_count": null,
      "outputs": []
    },
    {
      "cell_type": "code",
      "source": [
        "# 다음과 같이 실행하면 else문이 출력될것입니다.\n",
        "# 런타임 초기화\n",
        "\n",
        "import pkg_ex.seoul_new"
      ],
      "metadata": {
        "colab": {
          "base_uri": "https://localhost:8080/"
        },
        "id": "-nqdFVyHYdT9",
        "outputId": "e0590512-5517-4393-f1fb-b2b4436b687b"
      },
      "execution_count": null,
      "outputs": [
        {
          "output_type": "stream",
          "name": "stdout",
          "text": [
            "외부에서 seoul 모듈 실행되었습니다.\n"
          ]
        }
      ]
    },
    {
      "cell_type": "code",
      "source": [
        "#파일명 seoul_new.py\n",
        "\n",
        "class SeoulPkg:\n",
        "  def detail(self):\n",
        "    print(\"[서울 도심 패키지] 호캉스 100만원\")\n",
        "\n",
        "if __name__ == \"__main__\":\n",
        "  print(\"seoul 모듈 직접 실행되었습니다.\")\n",
        "  trip_seoul = SeoulPkg()\n",
        "  trip_seoul.detail()\n",
        "else:\n",
        "  print(\"외부에서 seoul 모듈 실행되었습니다.\")"
      ],
      "metadata": {
        "id": "gtH_Z5jkXtdb"
      },
      "execution_count": null,
      "outputs": []
    }
  ]
}