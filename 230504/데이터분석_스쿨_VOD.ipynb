{
  "nbformat": 4,
  "nbformat_minor": 0,
  "metadata": {
    "colab": {
      "provenance": []
    },
    "kernelspec": {
      "name": "python3",
      "display_name": "Python 3"
    },
    "language_info": {
      "name": "python"
    }
  },
  "cells": [
    {
      "cell_type": "code",
      "execution_count": null,
      "metadata": {
        "id": "qJF6wvyOteIU"
      },
      "outputs": [],
      "source": [
        "# 1. 별이 빛나는 밤"
      ]
    },
    {
      "cell_type": "code",
      "source": [
        "num = int(input('별의 개수를 입력해주세요'))\n",
        "\n",
        "for i in range(num):\n",
        "    i+=1\n",
        "    print('*'*i)"
      ],
      "metadata": {
        "colab": {
          "base_uri": "https://localhost:8080/"
        },
        "id": "acAO0YAHuISk",
        "outputId": "07961d50-4167-40b9-992d-e08151941d20"
      },
      "execution_count": 1,
      "outputs": [
        {
          "output_type": "stream",
          "name": "stdout",
          "text": [
            "별의 개수를 입력해주세요10\n",
            "*\n",
            "**\n",
            "***\n",
            "****\n",
            "*****\n",
            "******\n",
            "*******\n",
            "********\n",
            "*********\n",
            "**********\n"
          ]
        }
      ]
    },
    {
      "cell_type": "code",
      "source": [
        "# 2. 줄 바꿔 출력하기"
      ],
      "metadata": {
        "id": "WnL49fyzuncL"
      },
      "execution_count": null,
      "outputs": []
    },
    {
      "cell_type": "code",
      "source": [
        "num = int(input('숫자를 입력해주세요'))\n",
        "\n",
        "for i in range(num):\n",
        "    if i % 10 == 0:\n",
        "        print()\n",
        "    i+=1\n",
        "    print(i,end = '\\t')"
      ],
      "metadata": {
        "colab": {
          "base_uri": "https://localhost:8080/"
        },
        "id": "s2VOFWAvuvPR",
        "outputId": "c2b1299b-dcb4-4b7a-c400-832510b13133"
      },
      "execution_count": 3,
      "outputs": [
        {
          "output_type": "stream",
          "name": "stdout",
          "text": [
            "숫자를 입력해주세요50\n",
            "\n",
            "1\t2\t3\t4\t5\t6\t7\t8\t9\t10\t\n",
            "11\t12\t13\t14\t15\t16\t17\t18\t19\t20\t\n",
            "21\t22\t23\t24\t25\t26\t27\t28\t29\t30\t\n",
            "31\t32\t33\t34\t35\t36\t37\t38\t39\t40\t\n",
            "41\t42\t43\t44\t45\t46\t47\t48\t49\t50\t"
          ]
        }
      ]
    },
    {
      "cell_type": "code",
      "source": [
        "# 3. 오늘의 당첨번호"
      ],
      "metadata": {
        "id": "-rkkCDe-vCGs"
      },
      "execution_count": null,
      "outputs": []
    },
    {
      "cell_type": "code",
      "source": [
        "import random\n",
        "\n",
        "lotto = int(input('로또를 몇개를 사실건가요? '))\n",
        "\n",
        "for i in range(lotto):\n",
        "    num = random.sample(range(1,46),6)\n",
        "    num.sort()\n",
        "    print(num)"
      ],
      "metadata": {
        "colab": {
          "base_uri": "https://localhost:8080/"
        },
        "id": "3_gFSRevvKTX",
        "outputId": "0e32b12d-f792-47d7-d557-3ea452db3745"
      },
      "execution_count": 4,
      "outputs": [
        {
          "output_type": "stream",
          "name": "stdout",
          "text": [
            "로또를 몇개를 사실건가요? 10\n",
            "[7, 8, 10, 30, 31, 38]\n",
            "[1, 2, 10, 22, 41, 43]\n",
            "[4, 7, 14, 17, 25, 34]\n",
            "[5, 12, 21, 26, 29, 44]\n",
            "[4, 7, 11, 16, 19, 38]\n",
            "[10, 12, 19, 30, 31, 40]\n",
            "[7, 14, 32, 34, 35, 40]\n",
            "[4, 8, 11, 25, 26, 36]\n",
            "[4, 7, 21, 22, 30, 35]\n",
            "[19, 20, 31, 37, 38, 42]\n"
          ]
        }
      ]
    }
  ]
}